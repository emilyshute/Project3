{
 "metadata": {
  "language_info": {
   "codemirror_mode": {
    "name": "ipython",
    "version": 3
   },
   "file_extension": ".py",
   "mimetype": "text/x-python",
   "name": "python",
   "nbconvert_exporter": "python",
   "pygments_lexer": "ipython3",
   "version": "3.7.7-final"
  },
  "orig_nbformat": 2,
  "kernelspec": {
   "name": "python3",
   "display_name": "Python 3"
  }
 },
 "nbformat": 4,
 "nbformat_minor": 2,
 "cells": [
  {
   "cell_type": "code",
   "execution_count": 1,
   "metadata": {},
   "outputs": [],
   "source": [
    "%matplotlib inline\n",
    "import matplotlib.pyplot as plt\n",
    "import numpy as np\n",
    "import pandas as pd"
   ]
  },
  {
   "cell_type": "code",
   "execution_count": 2,
   "metadata": {},
   "outputs": [],
   "source": [
    "buff_pred_path = \"/Users/matthewvicario/Desktop/Project3/Output/buff_pred.csv\"\n",
    "buff_pred_data = pd.read_csv(buff_pred_path)\n",
    "buffalo_ml_path = \"/Users/matthewvicario/Desktop/Project3/Output/buffalo_ml.csv\"\n",
    "buffalo_ml_data = pd.read_csv(buffalo_ml_path)\n"
   ]
  },
  {
   "cell_type": "code",
   "execution_count": 3,
   "metadata": {},
   "outputs": [],
   "source": [
    "buffalo_ml_data = buffalo_ml_data[[\"Year\",\"Buffalo Pct\"]] \n",
    "buffalo_ml_data = buffalo_ml_data.rename(columns={\"Buffalo Pct\": \"Buffalo_Pct\"})"
   ]
  },
  {
   "cell_type": "code",
   "execution_count": 4,
   "metadata": {},
   "outputs": [],
   "source": [
    "buff_pred_data.rename(columns = {\"Future Years\":\"Year\", \"Predicted\":\"Buffalo_Pct\"}, inplace = True)"
   ]
  },
  {
   "cell_type": "code",
   "execution_count": 5,
   "metadata": {},
   "outputs": [
    {
     "output_type": "execute_result",
     "data": {
      "text/plain": [
       "    Year  Buffalo_Pct  Unnamed: 0\n",
       "0     14     0.464207         NaN\n",
       "1     15     0.215813         NaN\n",
       "2     16     0.520095         NaN\n",
       "3     17     0.554477         NaN\n",
       "4     18     0.447740         NaN\n",
       "5     19     0.451207         NaN\n",
       "6     20     0.508760         0.0\n",
       "7     21     0.527763         1.0\n",
       "8     22     0.546766         2.0\n",
       "9     23     0.565769         3.0\n",
       "10    24     0.584771         4.0\n",
       "11    25     0.603774         5.0"
      ],
      "text/html": "<div>\n<style scoped>\n    .dataframe tbody tr th:only-of-type {\n        vertical-align: middle;\n    }\n\n    .dataframe tbody tr th {\n        vertical-align: top;\n    }\n\n    .dataframe thead th {\n        text-align: right;\n    }\n</style>\n<table border=\"1\" class=\"dataframe\">\n  <thead>\n    <tr style=\"text-align: right;\">\n      <th></th>\n      <th>Year</th>\n      <th>Buffalo_Pct</th>\n      <th>Unnamed: 0</th>\n    </tr>\n  </thead>\n  <tbody>\n    <tr>\n      <th>0</th>\n      <td>14</td>\n      <td>0.464207</td>\n      <td>NaN</td>\n    </tr>\n    <tr>\n      <th>1</th>\n      <td>15</td>\n      <td>0.215813</td>\n      <td>NaN</td>\n    </tr>\n    <tr>\n      <th>2</th>\n      <td>16</td>\n      <td>0.520095</td>\n      <td>NaN</td>\n    </tr>\n    <tr>\n      <th>3</th>\n      <td>17</td>\n      <td>0.554477</td>\n      <td>NaN</td>\n    </tr>\n    <tr>\n      <th>4</th>\n      <td>18</td>\n      <td>0.447740</td>\n      <td>NaN</td>\n    </tr>\n    <tr>\n      <th>5</th>\n      <td>19</td>\n      <td>0.451207</td>\n      <td>NaN</td>\n    </tr>\n    <tr>\n      <th>6</th>\n      <td>20</td>\n      <td>0.508760</td>\n      <td>0.0</td>\n    </tr>\n    <tr>\n      <th>7</th>\n      <td>21</td>\n      <td>0.527763</td>\n      <td>1.0</td>\n    </tr>\n    <tr>\n      <th>8</th>\n      <td>22</td>\n      <td>0.546766</td>\n      <td>2.0</td>\n    </tr>\n    <tr>\n      <th>9</th>\n      <td>23</td>\n      <td>0.565769</td>\n      <td>3.0</td>\n    </tr>\n    <tr>\n      <th>10</th>\n      <td>24</td>\n      <td>0.584771</td>\n      <td>4.0</td>\n    </tr>\n    <tr>\n      <th>11</th>\n      <td>25</td>\n      <td>0.603774</td>\n      <td>5.0</td>\n    </tr>\n  </tbody>\n</table>\n</div>"
     },
     "metadata": {},
     "execution_count": 5
    }
   ],
   "source": [
    "full_buff = pd.merge(buffalo_ml_data, buff_pred_data, how = \"outer\", on = [\"Year\", \"Buffalo_Pct\"])\n",
    "full_buff"
   ]
  },
  {
   "cell_type": "code",
   "execution_count": 6,
   "metadata": {},
   "outputs": [
    {
     "output_type": "execute_result",
     "data": {
      "text/plain": [
       "    Year  Buffalo_Pct\n",
       "0     14     0.464207\n",
       "1     15     0.215813\n",
       "2     16     0.520095\n",
       "3     17     0.554477\n",
       "4     18     0.447740\n",
       "5     19     0.451207\n",
       "6     20     0.508760\n",
       "7     21     0.527763\n",
       "8     22     0.546766\n",
       "9     23     0.565769\n",
       "10    24     0.584771\n",
       "11    25     0.603774"
      ],
      "text/html": "<div>\n<style scoped>\n    .dataframe tbody tr th:only-of-type {\n        vertical-align: middle;\n    }\n\n    .dataframe tbody tr th {\n        vertical-align: top;\n    }\n\n    .dataframe thead th {\n        text-align: right;\n    }\n</style>\n<table border=\"1\" class=\"dataframe\">\n  <thead>\n    <tr style=\"text-align: right;\">\n      <th></th>\n      <th>Year</th>\n      <th>Buffalo_Pct</th>\n    </tr>\n  </thead>\n  <tbody>\n    <tr>\n      <th>0</th>\n      <td>14</td>\n      <td>0.464207</td>\n    </tr>\n    <tr>\n      <th>1</th>\n      <td>15</td>\n      <td>0.215813</td>\n    </tr>\n    <tr>\n      <th>2</th>\n      <td>16</td>\n      <td>0.520095</td>\n    </tr>\n    <tr>\n      <th>3</th>\n      <td>17</td>\n      <td>0.554477</td>\n    </tr>\n    <tr>\n      <th>4</th>\n      <td>18</td>\n      <td>0.447740</td>\n    </tr>\n    <tr>\n      <th>5</th>\n      <td>19</td>\n      <td>0.451207</td>\n    </tr>\n    <tr>\n      <th>6</th>\n      <td>20</td>\n      <td>0.508760</td>\n    </tr>\n    <tr>\n      <th>7</th>\n      <td>21</td>\n      <td>0.527763</td>\n    </tr>\n    <tr>\n      <th>8</th>\n      <td>22</td>\n      <td>0.546766</td>\n    </tr>\n    <tr>\n      <th>9</th>\n      <td>23</td>\n      <td>0.565769</td>\n    </tr>\n    <tr>\n      <th>10</th>\n      <td>24</td>\n      <td>0.584771</td>\n    </tr>\n    <tr>\n      <th>11</th>\n      <td>25</td>\n      <td>0.603774</td>\n    </tr>\n  </tbody>\n</table>\n</div>"
     },
     "metadata": {},
     "execution_count": 6
    }
   ],
   "source": [
    "full_buff.drop(full_buff.filter(regex=\"Unnamed: 0\"),axis=1, inplace=True)\n",
    "full_buff"
   ]
  },
  {
   "cell_type": "code",
   "execution_count": 7,
   "metadata": {},
   "outputs": [],
   "source": [
    "full_buff.to_csv('Output/full_buff.csv', index = True)"
   ]
  },
  {
   "cell_type": "code",
   "execution_count": null,
   "metadata": {},
   "outputs": [],
   "source": []
  }
 ]
}