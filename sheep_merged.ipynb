{
 "metadata": {
  "language_info": {
   "codemirror_mode": {
    "name": "ipython",
    "version": 3
   },
   "file_extension": ".py",
   "mimetype": "text/x-python",
   "name": "python",
   "nbconvert_exporter": "python",
   "pygments_lexer": "ipython3",
   "version": "3.7.7-final"
  },
  "orig_nbformat": 2,
  "kernelspec": {
   "name": "python3",
   "display_name": "Python 3"
  }
 },
 "nbformat": 4,
 "nbformat_minor": 2,
 "cells": [
  {
   "cell_type": "code",
   "execution_count": 1,
   "metadata": {},
   "outputs": [],
   "source": [
    "%matplotlib inline\n",
    "import matplotlib.pyplot as plt\n",
    "import numpy as np\n",
    "import pandas as pd"
   ]
  },
  {
   "cell_type": "code",
   "execution_count": 3,
   "metadata": {},
   "outputs": [],
   "source": [
    "sheep_pred_path = \"/Users/matthewvicario/Desktop/Project3/Output/sheep_pred.csv\"\n",
    "sheep_pred_data = pd.read_csv(sheep_pred_path)\n",
    "sheep_ml_path = \"/Users/matthewvicario/Desktop/Project3/Output/sheep_ml.csv\"\n",
    "sheep_ml_data = pd.read_csv(sheep_ml_path)"
   ]
  },
  {
   "cell_type": "code",
   "execution_count": 4,
   "metadata": {},
   "outputs": [],
   "source": [
    "sheep_ml_data = sheep_ml_data[[\"Year\",\"Sheep Pct\"]]\n",
    "sheep_ml_data = sheep_ml_data.rename(columns={\"Sheep Pct\": \"Sheep_Pct\"})"
   ]
  },
  {
   "cell_type": "code",
   "execution_count": 5,
   "metadata": {},
   "outputs": [],
   "source": [
    "sheep_pred_data.rename(columns = {\"Future Years\":\"Year\", \"Predicted\":\"Sheep_Pct\"}, inplace = True)"
   ]
  },
  {
   "cell_type": "code",
   "execution_count": 7,
   "metadata": {},
   "outputs": [
    {
     "output_type": "execute_result",
     "data": {
      "text/plain": [
       "    Year  Sheep_Pct  Unnamed: 0\n",
       "0     13   0.517291         NaN\n",
       "1     14   0.720621         NaN\n",
       "2     15   0.640606         NaN\n",
       "3     16   0.801313         NaN\n",
       "4     17   0.714420         NaN\n",
       "5     18   0.471098         NaN\n",
       "6     19   0.254973         NaN\n",
       "7     20   0.415457         0.0\n",
       "8     21   0.372168         1.0\n",
       "9     22   0.328879         2.0\n",
       "10    23   0.285589         3.0\n",
       "11    24   0.242300         4.0\n",
       "12    25   0.199011         5.0"
      ],
      "text/html": "<div>\n<style scoped>\n    .dataframe tbody tr th:only-of-type {\n        vertical-align: middle;\n    }\n\n    .dataframe tbody tr th {\n        vertical-align: top;\n    }\n\n    .dataframe thead th {\n        text-align: right;\n    }\n</style>\n<table border=\"1\" class=\"dataframe\">\n  <thead>\n    <tr style=\"text-align: right;\">\n      <th></th>\n      <th>Year</th>\n      <th>Sheep_Pct</th>\n      <th>Unnamed: 0</th>\n    </tr>\n  </thead>\n  <tbody>\n    <tr>\n      <th>0</th>\n      <td>13</td>\n      <td>0.517291</td>\n      <td>NaN</td>\n    </tr>\n    <tr>\n      <th>1</th>\n      <td>14</td>\n      <td>0.720621</td>\n      <td>NaN</td>\n    </tr>\n    <tr>\n      <th>2</th>\n      <td>15</td>\n      <td>0.640606</td>\n      <td>NaN</td>\n    </tr>\n    <tr>\n      <th>3</th>\n      <td>16</td>\n      <td>0.801313</td>\n      <td>NaN</td>\n    </tr>\n    <tr>\n      <th>4</th>\n      <td>17</td>\n      <td>0.714420</td>\n      <td>NaN</td>\n    </tr>\n    <tr>\n      <th>5</th>\n      <td>18</td>\n      <td>0.471098</td>\n      <td>NaN</td>\n    </tr>\n    <tr>\n      <th>6</th>\n      <td>19</td>\n      <td>0.254973</td>\n      <td>NaN</td>\n    </tr>\n    <tr>\n      <th>7</th>\n      <td>20</td>\n      <td>0.415457</td>\n      <td>0.0</td>\n    </tr>\n    <tr>\n      <th>8</th>\n      <td>21</td>\n      <td>0.372168</td>\n      <td>1.0</td>\n    </tr>\n    <tr>\n      <th>9</th>\n      <td>22</td>\n      <td>0.328879</td>\n      <td>2.0</td>\n    </tr>\n    <tr>\n      <th>10</th>\n      <td>23</td>\n      <td>0.285589</td>\n      <td>3.0</td>\n    </tr>\n    <tr>\n      <th>11</th>\n      <td>24</td>\n      <td>0.242300</td>\n      <td>4.0</td>\n    </tr>\n    <tr>\n      <th>12</th>\n      <td>25</td>\n      <td>0.199011</td>\n      <td>5.0</td>\n    </tr>\n  </tbody>\n</table>\n</div>"
     },
     "metadata": {},
     "execution_count": 7
    }
   ],
   "source": [
    "full_sheep = pd.merge(sheep_ml_data, sheep_pred_data, how = \"outer\", on = [\"Year\", \"Sheep_Pct\"])\n",
    "full_sheep"
   ]
  },
  {
   "cell_type": "code",
   "execution_count": 9,
   "metadata": {},
   "outputs": [
    {
     "output_type": "execute_result",
     "data": {
      "text/plain": [
       "    Year  Sheep_Pct\n",
       "0     13   0.517291\n",
       "1     14   0.720621\n",
       "2     15   0.640606\n",
       "3     16   0.801313\n",
       "4     17   0.714420\n",
       "5     18   0.471098\n",
       "6     19   0.254973\n",
       "7     20   0.415457\n",
       "8     21   0.372168\n",
       "9     22   0.328879\n",
       "10    23   0.285589\n",
       "11    24   0.242300\n",
       "12    25   0.199011"
      ],
      "text/html": "<div>\n<style scoped>\n    .dataframe tbody tr th:only-of-type {\n        vertical-align: middle;\n    }\n\n    .dataframe tbody tr th {\n        vertical-align: top;\n    }\n\n    .dataframe thead th {\n        text-align: right;\n    }\n</style>\n<table border=\"1\" class=\"dataframe\">\n  <thead>\n    <tr style=\"text-align: right;\">\n      <th></th>\n      <th>Year</th>\n      <th>Sheep_Pct</th>\n    </tr>\n  </thead>\n  <tbody>\n    <tr>\n      <th>0</th>\n      <td>13</td>\n      <td>0.517291</td>\n    </tr>\n    <tr>\n      <th>1</th>\n      <td>14</td>\n      <td>0.720621</td>\n    </tr>\n    <tr>\n      <th>2</th>\n      <td>15</td>\n      <td>0.640606</td>\n    </tr>\n    <tr>\n      <th>3</th>\n      <td>16</td>\n      <td>0.801313</td>\n    </tr>\n    <tr>\n      <th>4</th>\n      <td>17</td>\n      <td>0.714420</td>\n    </tr>\n    <tr>\n      <th>5</th>\n      <td>18</td>\n      <td>0.471098</td>\n    </tr>\n    <tr>\n      <th>6</th>\n      <td>19</td>\n      <td>0.254973</td>\n    </tr>\n    <tr>\n      <th>7</th>\n      <td>20</td>\n      <td>0.415457</td>\n    </tr>\n    <tr>\n      <th>8</th>\n      <td>21</td>\n      <td>0.372168</td>\n    </tr>\n    <tr>\n      <th>9</th>\n      <td>22</td>\n      <td>0.328879</td>\n    </tr>\n    <tr>\n      <th>10</th>\n      <td>23</td>\n      <td>0.285589</td>\n    </tr>\n    <tr>\n      <th>11</th>\n      <td>24</td>\n      <td>0.242300</td>\n    </tr>\n    <tr>\n      <th>12</th>\n      <td>25</td>\n      <td>0.199011</td>\n    </tr>\n  </tbody>\n</table>\n</div>"
     },
     "metadata": {},
     "execution_count": 9
    }
   ],
   "source": [
    "full_sheep.drop(full_sheep.filter(regex=\"Unnamed: 0\"),axis=1, inplace=True)\n",
    "full_sheep"
   ]
  },
  {
   "cell_type": "code",
   "execution_count": 10,
   "metadata": {},
   "outputs": [],
   "source": [
    "full_sheep.to_csv('Output/full_sheep.csv', index = True)"
   ]
  },
  {
   "cell_type": "code",
   "execution_count": null,
   "metadata": {},
   "outputs": [],
   "source": []
  }
 ]
}