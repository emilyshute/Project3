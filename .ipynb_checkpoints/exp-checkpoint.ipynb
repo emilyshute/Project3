{
 "cells": [
  {
   "cell_type": "code",
   "execution_count": null,
   "metadata": {},
   "outputs": [],
   "source": [
    "%matplotlib inline"
   ]
  },
  {
   "cell_type": "code",
   "execution_count": null,
   "metadata": {},
   "outputs": [],
   "source": [
    "import matplotlib.pyplot as plt\n",
    "import numpy as np\n",
    "import pandas as pd"
   ]
  },
  {
   "cell_type": "code",
   "execution_count": null,
   "metadata": {},
   "outputs": [],
   "source": [
    "jan_jun14_path = \"/Users/matthewvicario/Desktop/Project3/Resources/jan-jun14.csv\"\n",
    "jul_dec14_path = \"/Users/matthewvicario/Desktop/Project3/Resources/jul-dec14.csv\"\n",
    "jan_jun15_path = \"/Users/matthewvicario/Desktop/Project3/Resources/jan-jun15.csv\"\n",
    "jul_dec15_path = \"/Users/matthewvicario/Desktop/Project3/Resources/jul-dec15.csv\"\n",
    "jan_jun16_path = \"/Users/matthewvicario/Desktop/Project3/Resources/jan-jun16.csv\"\n",
    "jul_dec16_path = \"/Users/matthewvicario/Desktop/Project3/Resources/jul-dec16.csv\"\n",
    "jan_jun17_path = \"/Users/matthewvicario/Desktop/Project3/Resources/jan-jun17.csv\"\n",
    "jul_dec17_path = \"/Users/matthewvicario/Desktop/Project3/Resources/jul-dec17.csv\"\n",
    "jan_jun18_path = \"/Users/matthewvicario/Desktop/Project3/Resources/jan-jun18.csv\"\n",
    "jul_dec18_path = \"/Users/matthewvicario/Desktop/Project3/Resources/jul-dec18.csv\"\n",
    "jan_jun19_path = \"/Users/matthewvicario/Desktop/Project3/Resources/jan-jun19.csv\"\n",
    "jul_dec19_path = \"/Users/matthewvicario/Desktop/Project3/Resources/jul-dec19.csv\""
   ]
  },
  {
   "cell_type": "code",
   "execution_count": null,
   "metadata": {},
   "outputs": [],
   "source": [
    "jan_jun14_data = pd.read_csv(jan_jun14_path)\n",
    "jul_dec14_data = pd.read_csv(jul_dec14_path)\n",
    "jan_jun15_data = pd.read_csv(jan_jun15_path)\n",
    "jul_dec15_data = pd.read_csv(jul_dec15_path)\n",
    "jan_jun16_data = pd.read_csv(jan_jun16_path)\n",
    "jul_dec16_data = pd.read_csv(jul_dec16_path)\n",
    "jan_jun17_data = pd.read_csv(jan_jun17_path)\n",
    "jul_dec17_data = pd.read_csv(jul_dec17_path)\n",
    "jan_jun18_data = pd.read_csv(jan_jun18_path)\n",
    "jul_dec18_data = pd.read_csv(jul_dec18_path)\n",
    "jan_jun19_data = pd.read_csv(jan_jun19_path)\n",
    "jul_dec19_data = pd.read_csv(jul_dec19_path)"
   ]
  },
  {
   "cell_type": "code",
   "execution_count": null,
   "metadata": {},
   "outputs": [],
   "source": [
    "newjan_jun14 = jan_jun14_data[[\"Departure\\n Date (a)\", \"Buffalo Load\", \"Buffalo Loss\", \n",
    "                              \"Buffalo Pct\", \"Cattle Load\", \"Cattle Loss\", \"Cattle Pct\", \n",
    "                               \"Sheep Load\", \"Sheep Loss\", \"Sheep Pct\"]]\n",
    "newjan_jun14.rename(columns = {\"Departure\\n Date (a)\":\"Departure Date\"}, inplace = True)"
   ]
  },
  {
   "cell_type": "code",
   "execution_count": null,
   "metadata": {},
   "outputs": [],
   "source": [
    "newjul_dec14 = jul_dec14_data[[\"Departure \\r\\nDate (a)\", \"Buffalo Load\", \"Buffalo Loss\", \n",
    "                              \"Buffalo Pct\", \"Cattle Load\", \"Cattle Loss\", \"Cattle Pct\", \n",
    "                               \"Sheep Load\", \"Sheep Loss\", \"Sheep Pct\"]]\n",
    "newjul_dec14.rename(columns = {\"Departure \\r\\nDate (a)\":\"Departure Date\"}, inplace = True)"
   ]
  },
  {
   "cell_type": "code",
   "execution_count": null,
   "metadata": {},
   "outputs": [],
   "source": [
    "newjan_jun15 = jan_jun15_data[[\"Departure Date\", \"Buffalo Load\", \"Buffalo Loss\", \n",
    "                              \"Buffalo Pct\", \"Cattle Load\", \"Cattle Loss\", \"Cattle Pct\", \n",
    "                               \"Sheep Load\", \"Sheep Loss\", \"Sheep Pct\"]]"
   ]
  },
  {
   "cell_type": "code",
   "execution_count": null,
   "metadata": {},
   "outputs": [],
   "source": [
    "newjul_dec15 = jul_dec15_data[[\"Departure Date\", \"Buffalo Load\", \"Buffalo Loss\", \n",
    "                              \"Buffalo Pct\", \"Cattle Load\", \"Cattle Loss\", \"Cattle Pct\", \n",
    "                               \"Sheep Load\", \"Sheep Loss\", \"Sheep Pct\"]]"
   ]
  },
  {
   "cell_type": "code",
   "execution_count": null,
   "metadata": {},
   "outputs": [],
   "source": [
    "newjan_jun16 = jan_jun16_data[[\"Departure Date a\", \"Buffalo Load\", \"Buffalo Loss\", \n",
    "                              \"Buffalo Pct\", \"Cattle Load\", \"Cattle Loss\", \"Cattle Pct\", \n",
    "                               \"Sheep Load\", \"Sheep Loss\", \"Sheep Pct\"]]\n",
    "newjan_jun16.rename(columns = {\"Departure Date a\":\"Departure Date\"}, inplace = True)"
   ]
  },
  {
   "cell_type": "code",
   "execution_count": null,
   "metadata": {},
   "outputs": [],
   "source": [
    "newjul_dec16 = jul_dec16_data[[\"Departure Date a\", \"Buffalo Load\", \"Buffalo Loss\", \n",
    "                              \"Buffalo Pct\", \"Cattle Load\", \"Cattle Loss\", \"Cattle Pct\", \n",
    "                               \"Sheep Load\", \"Sheep Loss\", \"Sheep Pct\"]]\n",
    "newjul_dec16.rename(columns = {\"Departure Date a\":\"Departure Date\"}, inplace = True)"
   ]
  },
  {
   "cell_type": "code",
   "execution_count": null,
   "metadata": {},
   "outputs": [],
   "source": [
    "newjan_jun17 = jan_jun17_data[[\"Departure Date \", \"Buffalo Load\", \"Buffalo Loss\", \n",
    "                              \"Buffalo Pct\", \"Cattle Load\", \"Cattle Loss\", \"Cattle Pct\", \n",
    "                               \"Sheep Load\", \"Sheep Loss\", \"Sheep Pct\"]]\n",
    "newjan_jun17.rename(columns = {\"Departure Date \":\"Departure Date\"}, inplace = True)"
   ]
  },
  {
   "cell_type": "code",
   "execution_count": null,
   "metadata": {},
   "outputs": [],
   "source": [
    "newjul_dec17 = jul_dec17_data[[\"Departure Datea\", \"Buffalo Load\", \"Buffalo Loss\", \n",
    "                              \"Buffalo Pct\", \"Cattle Load\", \"Cattle Loss\", \"Cattle Pct\", \n",
    "                               \"Sheep Load\", \"Sheep Loss\", \"Sheep Pct\"]]\n",
    "newjul_dec17.rename(columns = {\"Departure Datea\":\"Departure Date\"}, inplace = True)"
   ]
  },
  {
   "cell_type": "code",
   "execution_count": null,
   "metadata": {},
   "outputs": [],
   "source": [
    "newjan_jun18 = jan_jun18_data[[\"Departure Date\", \"Buffalo Load\", \"Buffalo Loss\", \n",
    "                              \"Buffalo Pct\", \"Cattle Load\", \"Cattle Loss\", \"Cattle Pct\", \n",
    "                               \"Sheep Load\", \"Sheep Loss\", \"Sheep Pct\"]]"
   ]
  },
  {
   "cell_type": "code",
   "execution_count": null,
   "metadata": {},
   "outputs": [],
   "source": [
    "newjul_dec18 = jul_dec18_data[[\"Departure Date\", \"Buffalo Load\", \"Buffalo Loss\", \n",
    "                              \"Buffalo Pct\", \"Cattle Load\", \"Cattle Loss\", \"Cattle Pct\", \n",
    "                               \"Sheep Load\", \"Sheep Loss\", \"Sheep Pct\"]]"
   ]
  },
  {
   "cell_type": "code",
   "execution_count": null,
   "metadata": {},
   "outputs": [],
   "source": [
    "newjan_jun19 = jan_jun19_data[[\"Departure Date\", \"Buffalo Load\", \"Buffalo Loss\", \n",
    "                              \"Buffalo Pct\", \"Cattle Load\", \"Cattle Loss\", \"Cattle Pct\", \n",
    "                               \"Sheep Load\", \"Sheep Loss\", \"Sheep Pct\"]]"
   ]
  },
  {
   "cell_type": "code",
   "execution_count": null,
   "metadata": {},
   "outputs": [],
   "source": [
    "newjul_dec19 = jul_dec19_data[[\"Load Date\", \"Buffalo Load\", \"Buffalo  Loss\", \n",
    "                              \"Buffalo  Pct\", \"Cattle Load\", \"Cattle Loss\", \"Cattle Pct\", \n",
    "                               \"Sheep Load\", \"Sheep Loss\", \"Sheep Pct\"]]\n",
    "newjul_dec19.rename(columns = {\"Load Date\":\"Departure Date\", \"Buffalo  Loss\":\"Buffalo Loss\",\n",
    "                              \"Buffalo  Pct\":\"Buffalo Pct\"}, inplace = True)"
   ]
  },
  {
   "cell_type": "code",
   "execution_count": null,
   "metadata": {},
   "outputs": [],
   "source": [
    "year14 = pd.merge(newjan_jun14, newjul_dec14, how ='left', on =[\"Departure Date\",\"Buffalo Load\", \"Buffalo Loss\", \n",
    "                              \"Buffalo Pct\", \"Cattle Load\", \"Cattle Loss\", \"Cattle Pct\", \n",
    "                               \"Sheep Load\", \"Sheep Loss\", \"Sheep Pct\"])"
   ]
  },
  {
   "cell_type": "code",
   "execution_count": null,
   "metadata": {},
   "outputs": [],
   "source": [
    "year15 = pd.merge(newjan_jun15, newjul_dec15, how ='left', on =[\"Departure Date\",\"Buffalo Load\", \"Buffalo Loss\", \n",
    "                              \"Buffalo Pct\", \"Cattle Load\", \"Cattle Loss\", \"Cattle Pct\", \n",
    "                               \"Sheep Load\", \"Sheep Loss\", \"Sheep Pct\"])"
   ]
  },
  {
   "cell_type": "code",
   "execution_count": null,
   "metadata": {},
   "outputs": [],
   "source": [
    "year16 = pd.merge(newjan_jun16, newjul_dec16, how ='left', on =[\"Departure Date\",\"Buffalo Load\", \"Buffalo Loss\", \n",
    "                              \"Buffalo Pct\", \"Cattle Load\", \"Cattle Loss\", \"Cattle Pct\", \n",
    "                               \"Sheep Load\", \"Sheep Loss\", \"Sheep Pct\"])"
   ]
  },
  {
   "cell_type": "code",
   "execution_count": null,
   "metadata": {},
   "outputs": [],
   "source": [
    "year17 = pd.merge(newjan_jun17, newjul_dec17, how ='left', on =[\"Departure Date\",\"Buffalo Load\", \"Buffalo Loss\", \n",
    "                              \"Buffalo Pct\", \"Cattle Load\", \"Cattle Loss\", \"Cattle Pct\", \n",
    "                               \"Sheep Load\", \"Sheep Loss\", \"Sheep Pct\"])"
   ]
  },
  {
   "cell_type": "code",
   "execution_count": null,
   "metadata": {},
   "outputs": [],
   "source": [
    "year18 = pd.merge(newjan_jun18, newjul_dec18, how ='left', on =[\"Departure Date\",\"Buffalo Load\", \"Buffalo Loss\", \n",
    "                              \"Buffalo Pct\", \"Cattle Load\", \"Cattle Loss\", \"Cattle Pct\", \n",
    "                               \"Sheep Load\", \"Sheep Loss\", \"Sheep Pct\"])"
   ]
  },
  {
   "cell_type": "code",
   "execution_count": null,
   "metadata": {},
   "outputs": [],
   "source": [
    "year19 = pd.merge(newjan_jun19, newjul_dec19, how ='left', on =[\"Departure Date\",\"Buffalo Load\", \"Buffalo Loss\", \n",
    "                              \"Buffalo Pct\", \"Cattle Load\", \"Cattle Loss\", \"Cattle Pct\", \n",
    "                               \"Sheep Load\", \"Sheep Loss\", \"Sheep Pct\"])"
   ]
  },
  {
   "cell_type": "code",
   "execution_count": null,
   "metadata": {},
   "outputs": [],
   "source": []
  },
  {
   "cell_type": "code",
   "execution_count": null,
   "metadata": {},
   "outputs": [],
   "source": []
  },
  {
   "cell_type": "code",
   "execution_count": null,
   "metadata": {},
   "outputs": [],
   "source": []
  },
  {
   "cell_type": "code",
   "execution_count": null,
   "metadata": {},
   "outputs": [],
   "source": []
  },
  {
   "cell_type": "code",
   "execution_count": null,
   "metadata": {},
   "outputs": [],
   "source": []
  },
  {
   "cell_type": "code",
   "execution_count": null,
   "metadata": {},
   "outputs": [],
   "source": [
    "#jan_jun14_data.rename(columns = {\"Departure\\n Date (a)\":\"Departure Date\"}, inplace = True)\n",
    "#jan_jun16_data.rename(columns = {\"Departure Date a\":\"Departure Date\"}, inplace = True)\n",
    "#jul_dec14_data.rename(columns = {\"Departure \\r\\nDate (a)\":\"Departure Date\"}, inplace = True)\n",
    "#jul_dec16_data.rename(columns = {\"Departure Date a\":\"Departure Date\"}, inplace = True)\n",
    "#jul_dec17_data.rename(columns = {\"Departure Datea\":\"Departure Date\"}, inplace = True)\n",
    "#jul_dec19_data.rename(columns = {\"Load Date\":\"Departure Date\"}, inplace = True)\n",
    "jan_jun14_data.head()"
   ]
  },
  {
   "cell_type": "code",
   "execution_count": null,
   "metadata": {},
   "outputs": [],
   "source": []
  },
  {
   "cell_type": "code",
   "execution_count": null,
   "metadata": {},
   "outputs": [],
   "source": []
  },
  {
   "cell_type": "code",
   "execution_count": null,
   "metadata": {},
   "outputs": [],
   "source": []
  },
  {
   "cell_type": "code",
   "execution_count": null,
   "metadata": {},
   "outputs": [],
   "source": []
  },
  {
   "cell_type": "code",
   "execution_count": null,
   "metadata": {},
   "outputs": [],
   "source": []
  },
  {
   "cell_type": "code",
   "execution_count": null,
   "metadata": {},
   "outputs": [],
   "source": []
  },
  {
   "cell_type": "code",
   "execution_count": null,
   "metadata": {},
   "outputs": [],
   "source": []
  },
  {
   "cell_type": "code",
   "execution_count": null,
   "metadata": {},
   "outputs": [],
   "source": []
  },
  {
   "cell_type": "code",
   "execution_count": null,
   "metadata": {},
   "outputs": [],
   "source": []
  },
  {
   "cell_type": "code",
   "execution_count": null,
   "metadata": {},
   "outputs": [],
   "source": []
  },
  {
   "cell_type": "code",
   "execution_count": null,
   "metadata": {},
   "outputs": [],
   "source": [
    "#mortality_data = pd.read_csv(mortality_data_path)\n",
    "#mortality_data.head()"
   ]
  },
  {
   "cell_type": "code",
   "execution_count": null,
   "metadata": {},
   "outputs": [],
   "source": [
    "#mortality_count = pd.DataFrame(mortality_data.groupby([\"Export Date\",\"Species\"],as_index = False)[\"Consignment Mortality Level\"].sum())\n",
    "#mortality_count.head()"
   ]
  },
  {
   "cell_type": "code",
   "execution_count": null,
   "metadata": {},
   "outputs": [],
   "source": [
    "#exports_data = pd.read_csv(exports_data_path)\n",
    "#exports_data.head()"
   ]
  },
  {
   "cell_type": "code",
   "execution_count": null,
   "metadata": {},
   "outputs": [],
   "source": [
    "neworder = exports_data[[\"Month\", \"Year\", \"Species\", \"Quantity\", \"Mode\",\"Country\", \"End Use\"]]\n",
    "neworder.rename(columns = {\"Country\":\"Destination\"}, inplace = True)\n",
    "neworder = neworder.replace(\"August\",\"Aug\")\n",
    "neworder = neworder.replace(\"July\",\"Jul\")\n",
    "neworder = neworder.replace(\"Sept\",\"Sep\")\n",
    "neworder.head()"
   ]
  },
  {
   "cell_type": "code",
   "execution_count": null,
   "metadata": {},
   "outputs": [],
   "source": [
    "start, stop = 2, 4\n",
    "neworder[\"Year\"] = neworder[\"Year\"].astype(str)\n",
    "neworder[\"Year\"] = neworder[\"Year\"].str.slice(start, stop)\n",
    "neworder.head()"
   ]
  },
  {
   "cell_type": "code",
   "execution_count": null,
   "metadata": {},
   "outputs": [],
   "source": [
    "neworder[\"Export Date\"] = pd.DataFrame(neworder[\"Month\"].map(str) + \"-\" + neworder[\"Year\"].map(str))\n",
    "neworder.head()"
   ]
  },
  {
   "cell_type": "code",
   "execution_count": null,
   "metadata": {},
   "outputs": [],
   "source": [
    "clean_exports = neworder[[\"Export Date\", \"Species\", \"Quantity\", \"Mode\",\"Destination\", \"End Use\"]]\n",
    "clean_exports.head(10)"
   ]
  },
  {
   "cell_type": "code",
   "execution_count": null,
   "metadata": {},
   "outputs": [],
   "source": [
    "export_count = pd.DataFrame(clean_exports.groupby([\"Export Date\",\"Species\"],as_index = False)[\"Quantity\"].sum())\n",
    "export_count.head(10)"
   ]
  },
  {
   "cell_type": "code",
   "execution_count": null,
   "metadata": {},
   "outputs": [],
   "source": [
    "combined_count = pd.merge(mortality_count, export_count, how ='outer', left_on =[\"Export Date\",\"Species\"], right_on = [\"Export Date\", \"Species\"])\n",
    "combined_count.head(10)"
   ]
  },
  {
   "cell_type": "code",
   "execution_count": null,
   "metadata": {},
   "outputs": [],
   "source": [
    "combined_count[\"Export Date\"].unique()"
   ]
  },
  {
   "cell_type": "code",
   "execution_count": null,
   "metadata": {},
   "outputs": [],
   "source": [
    "from datetime import datetime"
   ]
  },
  {
   "cell_type": "code",
   "execution_count": null,
   "metadata": {},
   "outputs": [],
   "source": [
    "#combined_count[\"Export Date\"] = pd.to_datetime(combined_count[\"Export Date\"],format ='%b-%y')\n",
    "combined_count[\"Year\"] = combined_count[\"Export Date\"].map(lambda x: x.year)\n",
    "combined_count.head(5)"
   ]
  },
  {
   "cell_type": "code",
   "execution_count": null,
   "metadata": {},
   "outputs": [],
   "source": [
    "combined_count = combined_count.sort_values(by=[\"Export Date\"])\n",
    "combined_count.head()"
   ]
  },
  {
   "cell_type": "code",
   "execution_count": null,
   "metadata": {},
   "outputs": [],
   "source": [
    "combined_count = combined_count.replace(np.nan,0)\n",
    "new_count = combined_count[[\"Year\",\"Species\", \"Consignment Mortality Level\",\"Quantity\"]]\n",
    "new_count.head(15)\n",
    "                "
   ]
  },
  {
   "cell_type": "code",
   "execution_count": null,
   "metadata": {},
   "outputs": [],
   "source": [
    "grouped_count = pd.DataFrame(new_count.groupby([\"Species\", \"Year\"],as_index = False).sum())\n",
    "grouped_count\n",
    "\n"
   ]
  },
  {
   "cell_type": "code",
   "execution_count": null,
   "metadata": {},
   "outputs": [],
   "source": []
  },
  {
   "cell_type": "code",
   "execution_count": null,
   "metadata": {},
   "outputs": [],
   "source": []
  },
  {
   "cell_type": "code",
   "execution_count": null,
   "metadata": {},
   "outputs": [],
   "source": []
  },
  {
   "cell_type": "code",
   "execution_count": null,
   "metadata": {},
   "outputs": [],
   "source": []
  },
  {
   "cell_type": "code",
   "execution_count": null,
   "metadata": {},
   "outputs": [],
   "source": []
  },
  {
   "cell_type": "code",
   "execution_count": null,
   "metadata": {},
   "outputs": [],
   "source": [
    "#grouped_spec = new_count.loc[new_count[\"Species\"] == \"Cattle\"]\n",
    "#new_count.head()"
   ]
  }
 ],
 "metadata": {
  "kernelspec": {
   "display_name": "Python 3",
   "language": "python",
   "name": "python3"
  },
  "language_info": {
   "codemirror_mode": {
    "name": "ipython",
    "version": 3
   },
   "file_extension": ".py",
   "mimetype": "text/x-python",
   "name": "python",
   "nbconvert_exporter": "python",
   "pygments_lexer": "ipython3",
   "version": "3.7.7"
  }
 },
 "nbformat": 4,
 "nbformat_minor": 4
}
