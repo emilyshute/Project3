{
 "metadata": {
  "language_info": {
   "codemirror_mode": {
    "name": "ipython",
    "version": 3
   },
   "file_extension": ".py",
   "mimetype": "text/x-python",
   "name": "python",
   "nbconvert_exporter": "python",
   "pygments_lexer": "ipython3",
   "version": "3.7.7-final"
  },
  "orig_nbformat": 2,
  "kernelspec": {
   "name": "python3",
   "display_name": "Python 3"
  }
 },
 "nbformat": 4,
 "nbformat_minor": 2,
 "cells": [
  {
   "cell_type": "code",
   "execution_count": 1,
   "metadata": {},
   "outputs": [],
   "source": [
    "%matplotlib inline\n",
    "import matplotlib.pyplot as plt\n",
    "import numpy as np\n",
    "import pandas as pd"
   ]
  },
  {
   "cell_type": "code",
   "execution_count": 2,
   "metadata": {},
   "outputs": [],
   "source": [
    "cattle_pred_path = \"/Users/matthewvicario/Desktop/Project3/Output/cattle_pred.csv\"\n",
    "cattle_pred_data = pd.read_csv(cattle_pred_path)\n",
    "cattle_ml_path = \"/Users/matthewvicario/Desktop/Project3/Output/cattle_ml.csv\"\n",
    "cattle_ml_data = pd.read_csv(cattle_ml_path)"
   ]
  },
  {
   "cell_type": "code",
   "execution_count": 3,
   "metadata": {},
   "outputs": [],
   "source": [
    "cattle_ml_data = cattle_ml_data[[\"Year\",\"Cattle Pct\"]]\n",
    "cattle_ml_data = cattle_ml_data.rename(columns={\"Cattle Pct\": \"Cattle_Pct\"})"
   ]
  },
  {
   "cell_type": "code",
   "execution_count": 4,
   "metadata": {},
   "outputs": [],
   "source": [
    "cattle_pred_data.rename(columns = {\"Future Years\":\"Year\", \"Predicted\":\"Cattle_Pct\"}, inplace = True)"
   ]
  },
  {
   "cell_type": "code",
   "execution_count": 5,
   "metadata": {},
   "outputs": [
    {
     "output_type": "execute_result",
     "data": {
      "text/plain": [
       "    Year  Cattle_Pct  Unnamed: 0\n",
       "0     13    0.125504         NaN\n",
       "1     14    0.128321         NaN\n",
       "2     15    0.104764         NaN\n",
       "3     16    0.134794         NaN\n",
       "4     17    0.101482         NaN\n",
       "5     18    0.119154         NaN\n",
       "6     19    0.098976         NaN\n",
       "7     20    0.101729         0.0\n",
       "8     21    0.098121         1.0\n",
       "9     22    0.094514         2.0\n",
       "10    23    0.090907         3.0\n",
       "11    24    0.087300         4.0\n",
       "12    25    0.083693         5.0"
      ],
      "text/html": "<div>\n<style scoped>\n    .dataframe tbody tr th:only-of-type {\n        vertical-align: middle;\n    }\n\n    .dataframe tbody tr th {\n        vertical-align: top;\n    }\n\n    .dataframe thead th {\n        text-align: right;\n    }\n</style>\n<table border=\"1\" class=\"dataframe\">\n  <thead>\n    <tr style=\"text-align: right;\">\n      <th></th>\n      <th>Year</th>\n      <th>Cattle_Pct</th>\n      <th>Unnamed: 0</th>\n    </tr>\n  </thead>\n  <tbody>\n    <tr>\n      <th>0</th>\n      <td>13</td>\n      <td>0.125504</td>\n      <td>NaN</td>\n    </tr>\n    <tr>\n      <th>1</th>\n      <td>14</td>\n      <td>0.128321</td>\n      <td>NaN</td>\n    </tr>\n    <tr>\n      <th>2</th>\n      <td>15</td>\n      <td>0.104764</td>\n      <td>NaN</td>\n    </tr>\n    <tr>\n      <th>3</th>\n      <td>16</td>\n      <td>0.134794</td>\n      <td>NaN</td>\n    </tr>\n    <tr>\n      <th>4</th>\n      <td>17</td>\n      <td>0.101482</td>\n      <td>NaN</td>\n    </tr>\n    <tr>\n      <th>5</th>\n      <td>18</td>\n      <td>0.119154</td>\n      <td>NaN</td>\n    </tr>\n    <tr>\n      <th>6</th>\n      <td>19</td>\n      <td>0.098976</td>\n      <td>NaN</td>\n    </tr>\n    <tr>\n      <th>7</th>\n      <td>20</td>\n      <td>0.101729</td>\n      <td>0.0</td>\n    </tr>\n    <tr>\n      <th>8</th>\n      <td>21</td>\n      <td>0.098121</td>\n      <td>1.0</td>\n    </tr>\n    <tr>\n      <th>9</th>\n      <td>22</td>\n      <td>0.094514</td>\n      <td>2.0</td>\n    </tr>\n    <tr>\n      <th>10</th>\n      <td>23</td>\n      <td>0.090907</td>\n      <td>3.0</td>\n    </tr>\n    <tr>\n      <th>11</th>\n      <td>24</td>\n      <td>0.087300</td>\n      <td>4.0</td>\n    </tr>\n    <tr>\n      <th>12</th>\n      <td>25</td>\n      <td>0.083693</td>\n      <td>5.0</td>\n    </tr>\n  </tbody>\n</table>\n</div>"
     },
     "metadata": {},
     "execution_count": 5
    }
   ],
   "source": [
    "full_cattle = pd.merge(cattle_ml_data, cattle_pred_data, how = \"outer\", on = [\"Year\", \"Cattle_Pct\"])\n",
    "full_cattle"
   ]
  },
  {
   "cell_type": "code",
   "execution_count": 6,
   "metadata": {},
   "outputs": [
    {
     "output_type": "execute_result",
     "data": {
      "text/plain": [
       "    Year  Cattle_Pct\n",
       "0     13    0.125504\n",
       "1     14    0.128321\n",
       "2     15    0.104764\n",
       "3     16    0.134794\n",
       "4     17    0.101482\n",
       "5     18    0.119154\n",
       "6     19    0.098976\n",
       "7     20    0.101729\n",
       "8     21    0.098121\n",
       "9     22    0.094514\n",
       "10    23    0.090907\n",
       "11    24    0.087300\n",
       "12    25    0.083693"
      ],
      "text/html": "<div>\n<style scoped>\n    .dataframe tbody tr th:only-of-type {\n        vertical-align: middle;\n    }\n\n    .dataframe tbody tr th {\n        vertical-align: top;\n    }\n\n    .dataframe thead th {\n        text-align: right;\n    }\n</style>\n<table border=\"1\" class=\"dataframe\">\n  <thead>\n    <tr style=\"text-align: right;\">\n      <th></th>\n      <th>Year</th>\n      <th>Cattle_Pct</th>\n    </tr>\n  </thead>\n  <tbody>\n    <tr>\n      <th>0</th>\n      <td>13</td>\n      <td>0.125504</td>\n    </tr>\n    <tr>\n      <th>1</th>\n      <td>14</td>\n      <td>0.128321</td>\n    </tr>\n    <tr>\n      <th>2</th>\n      <td>15</td>\n      <td>0.104764</td>\n    </tr>\n    <tr>\n      <th>3</th>\n      <td>16</td>\n      <td>0.134794</td>\n    </tr>\n    <tr>\n      <th>4</th>\n      <td>17</td>\n      <td>0.101482</td>\n    </tr>\n    <tr>\n      <th>5</th>\n      <td>18</td>\n      <td>0.119154</td>\n    </tr>\n    <tr>\n      <th>6</th>\n      <td>19</td>\n      <td>0.098976</td>\n    </tr>\n    <tr>\n      <th>7</th>\n      <td>20</td>\n      <td>0.101729</td>\n    </tr>\n    <tr>\n      <th>8</th>\n      <td>21</td>\n      <td>0.098121</td>\n    </tr>\n    <tr>\n      <th>9</th>\n      <td>22</td>\n      <td>0.094514</td>\n    </tr>\n    <tr>\n      <th>10</th>\n      <td>23</td>\n      <td>0.090907</td>\n    </tr>\n    <tr>\n      <th>11</th>\n      <td>24</td>\n      <td>0.087300</td>\n    </tr>\n    <tr>\n      <th>12</th>\n      <td>25</td>\n      <td>0.083693</td>\n    </tr>\n  </tbody>\n</table>\n</div>"
     },
     "metadata": {},
     "execution_count": 6
    }
   ],
   "source": [
    "full_cattle.drop(full_cattle.filter(regex=\"Unnamed: 0\"),axis=1, inplace=True)\n",
    "full_cattle"
   ]
  },
  {
   "cell_type": "code",
   "execution_count": 7,
   "metadata": {},
   "outputs": [],
   "source": [
    "full_cattle.to_csv('Output/full_cattle.csv', index = True)"
   ]
  },
  {
   "cell_type": "code",
   "execution_count": null,
   "metadata": {},
   "outputs": [],
   "source": []
  }
 ]
}