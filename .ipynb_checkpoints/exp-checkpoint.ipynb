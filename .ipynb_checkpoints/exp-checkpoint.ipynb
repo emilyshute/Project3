{
 "cells": [
  {
   "cell_type": "code",
   "execution_count": 1,
   "metadata": {},
   "outputs": [],
   "source": [
    "%matplotlib inline"
   ]
  },
  {
   "cell_type": "code",
   "execution_count": 2,
   "metadata": {},
   "outputs": [],
   "source": [
    "import matplotlib.pyplot as plt\n",
    "import numpy as np\n",
    "import pandas as pd"
   ]
  },
  {
   "cell_type": "code",
   "execution_count": 3,
   "metadata": {},
   "outputs": [],
   "source": [
    "jan_jun14_path = \"/Users/matthewvicario/Desktop/Project3/Resources/jan-jun14.csv\"\n",
    "jul_dec14_path = \"/Users/matthewvicario/Desktop/Project3/Resources/jul-dec14.csv\"\n",
    "jan_jun15_path = \"/Users/matthewvicario/Desktop/Project3/Resources/jan-jun15.csv\"\n",
    "jul_dec15_path = \"/Users/matthewvicario/Desktop/Project3/Resources/jul-dec15.csv\"\n",
    "jan_jun16_path = \"/Users/matthewvicario/Desktop/Project3/Resources/jan-jun16.csv\"\n",
    "jul_dec16_path = \"/Users/matthewvicario/Desktop/Project3/Resources/jul-dec16.csv\"\n",
    "jan_jun17_path = \"/Users/matthewvicario/Desktop/Project3/Resources/jan-jun17.csv\"\n",
    "jul_dec17_path = \"/Users/matthewvicario/Desktop/Project3/Resources/jul-dec17.csv\"\n",
    "jan_jun18_path = \"/Users/matthewvicario/Desktop/Project3/Resources/jan-jun18.csv\"\n",
    "jul_dec18_path = \"/Users/matthewvicario/Desktop/Project3/Resources/jul-dec18.csv\"\n",
    "jan_jun19_path = \"/Users/matthewvicario/Desktop/Project3/Resources/jan-jun19.csv\"\n",
    "jul_dec19_path = \"/Users/matthewvicario/Desktop/Project3/Resources/jul-dec19.csv\""
   ]
  },
  {
   "cell_type": "code",
   "execution_count": 4,
   "metadata": {},
   "outputs": [],
   "source": [
    "jan_jun14_data = pd.read_csv(jan_jun14_path)\n",
    "jul_dec14_data = pd.read_csv(jul_dec14_path)\n",
    "jan_jun15_data = pd.read_csv(jan_jun15_path)\n",
    "jul_dec15_data = pd.read_csv(jul_dec15_path)\n",
    "jan_jun16_data = pd.read_csv(jan_jun16_path)\n",
    "jul_dec16_data = pd.read_csv(jul_dec16_path)\n",
    "jan_jun17_data = pd.read_csv(jan_jun17_path)\n",
    "jul_dec17_data = pd.read_csv(jul_dec17_path)\n",
    "jan_jun18_data = pd.read_csv(jan_jun18_path)\n",
    "jul_dec18_data = pd.read_csv(jul_dec18_path)\n",
    "jan_jun19_data = pd.read_csv(jan_jun19_path)\n",
    "jul_dec19_data = pd.read_csv(jul_dec19_path)"
   ]
  },
  {
   "cell_type": "code",
   "execution_count": 5,
   "metadata": {},
   "outputs": [],
   "source": [
    "newjan_jun14 = jan_jun14_data[[\"Departure Date\", \"Buffalo Load\", \"Buffalo Loss\", \n",
    "                              \"Buffalo Pct\", \"Cattle Load\", \"Cattle Loss\", \"Cattle Pct\", \n",
    "                               \"Sheep Load\", \"Sheep Loss\", \"Sheep Pct\"]]"
   ]
  },
  {
   "cell_type": "code",
   "execution_count": 6,
   "metadata": {},
   "outputs": [],
   "source": [
    "newjul_dec14 = jul_dec14_data[[\"Departure Date\", \"Buffalo Load\", \"Buffalo Loss\", \n",
    "                              \"Buffalo Pct\", \"Cattle Load\", \"Cattle Loss\", \"Cattle Pct\", \n",
    "                               \"Sheep Load\", \"Sheep Loss\", \"Sheep Pct\"]]"
   ]
  },
  {
   "cell_type": "code",
   "execution_count": 7,
   "metadata": {},
   "outputs": [],
   "source": [
    "newjan_jun15 = jan_jun15_data[[\"Departure Date\", \"Buffalo Load\", \"Buffalo Loss\", \n",
    "                              \"Buffalo Pct\", \"Cattle Load\", \"Cattle Loss\", \"Cattle Pct\", \n",
    "                               \"Sheep Load\", \"Sheep Loss\", \"Sheep Pct\"]]"
   ]
  },
  {
   "cell_type": "code",
   "execution_count": 8,
   "metadata": {},
   "outputs": [],
   "source": [
    "newjul_dec15 = jul_dec15_data[[\"Departure Date\", \"Buffalo Load\", \"Buffalo Loss\", \n",
    "                              \"Buffalo Pct\", \"Cattle Load\", \"Cattle Loss\", \"Cattle Pct\", \n",
    "                               \"Sheep Load\", \"Sheep Loss\", \"Sheep Pct\"]]"
   ]
  },
  {
   "cell_type": "code",
   "execution_count": 9,
   "metadata": {},
   "outputs": [],
   "source": [
    "newjan_jun16 = jan_jun16_data[[\"Departure Date\", \"Buffalo Load\", \"Buffalo Loss\", \n",
    "                              \"Buffalo Pct\", \"Cattle Load\", \"Cattle Loss\", \"Cattle Pct\", \n",
    "                               \"Sheep Load\", \"Sheep Loss\", \"Sheep Pct\"]]"
   ]
  },
  {
   "cell_type": "code",
   "execution_count": 10,
   "metadata": {},
   "outputs": [],
   "source": [
    "newjul_dec16 = jul_dec16_data[[\"Departure Date\", \"Buffalo Load\", \"Buffalo Loss\", \n",
    "                              \"Buffalo Pct\", \"Cattle Load\", \"Cattle Loss\", \"Cattle Pct\", \n",
    "                               \"Sheep Load\", \"Sheep Loss\", \"Sheep Pct\"]]"
   ]
  },
  {
   "cell_type": "code",
   "execution_count": 11,
   "metadata": {},
   "outputs": [],
   "source": [
    "newjan_jun17 = jan_jun17_data[[\"Departure Date\", \"Buffalo Load\", \"Buffalo Loss\", \n",
    "                              \"Buffalo Pct\", \"Cattle Load\", \"Cattle Loss\", \"Cattle Pct\", \n",
    "                               \"Sheep Load\", \"Sheep Loss\", \"Sheep Pct\"]]"
   ]
  },
  {
   "cell_type": "code",
   "execution_count": 12,
   "metadata": {},
   "outputs": [],
   "source": [
    "newjul_dec17 = jul_dec17_data[[\"Departure Date\", \"Buffalo Load\", \"Buffalo Loss\", \n",
    "                              \"Buffalo Pct\", \"Cattle Load\", \"Cattle Loss\", \"Cattle Pct\", \n",
    "                               \"Sheep Load\", \"Sheep Loss\", \"Sheep Pct\"]]"
   ]
  },
  {
   "cell_type": "code",
   "execution_count": 13,
   "metadata": {},
   "outputs": [],
   "source": [
    "newjan_jun18 = jan_jun18_data[[\"Departure Date\", \"Buffalo Load\", \"Buffalo Loss\", \n",
    "                              \"Buffalo Pct\", \"Cattle Load\", \"Cattle Loss\", \"Cattle Pct\", \n",
    "                               \"Sheep Load\", \"Sheep Loss\", \"Sheep Pct\"]]"
   ]
  },
  {
   "cell_type": "code",
   "execution_count": 14,
   "metadata": {},
   "outputs": [],
   "source": [
    "newjul_dec18 = jul_dec18_data[[\"Departure Date\", \"Buffalo Load\", \"Buffalo Loss\", \n",
    "                              \"Buffalo Pct\", \"Cattle Load\", \"Cattle Loss\", \"Cattle Pct\", \n",
    "                               \"Sheep Load\", \"Sheep Loss\", \"Sheep Pct\"]]"
   ]
  },
  {
   "cell_type": "code",
   "execution_count": 15,
   "metadata": {},
   "outputs": [],
   "source": [
    "newjan_jun19 = jan_jun19_data[[\"Departure Date\", \"Buffalo Load\", \"Buffalo Loss\", \n",
    "                              \"Buffalo Pct\", \"Cattle Load\", \"Cattle Loss\", \"Cattle Pct\", \n",
    "                               \"Sheep Load\", \"Sheep Loss\", \"Sheep Pct\"]]"
   ]
  },
  {
   "cell_type": "code",
   "execution_count": 16,
   "metadata": {},
   "outputs": [],
   "source": [
    "newjul_dec19 = jul_dec19_data[[\"Departure Date\", \"Buffalo Load\", \"Buffalo Loss\", \n",
    "                              \"Buffalo Pct\", \"Cattle Load\", \"Cattle Loss\", \"Cattle Pct\", \n",
    "                               \"Sheep Load\", \"Sheep Loss\", \"Sheep Pct\"]]\n"
   ]
  },
  {
   "cell_type": "code",
   "execution_count": 17,
   "metadata": {},
   "outputs": [],
   "source": [
    "year14 = pd.merge(newjan_jun14, newjul_dec14, how ='outer', on =[\"Departure Date\",\"Buffalo Load\", \"Buffalo Loss\", \n",
    "                              \"Buffalo Pct\", \"Cattle Load\", \"Cattle Loss\", \"Cattle Pct\", \n",
    "                               \"Sheep Load\", \"Sheep Loss\", \"Sheep Pct\"])"
   ]
  },
  {
   "cell_type": "code",
   "execution_count": 18,
   "metadata": {},
   "outputs": [],
   "source": [
    "year15 = pd.merge(newjan_jun15, newjul_dec15, how ='outer', on =[\"Departure Date\",\"Buffalo Load\", \"Buffalo Loss\", \n",
    "                              \"Buffalo Pct\", \"Cattle Load\", \"Cattle Loss\", \"Cattle Pct\", \n",
    "                               \"Sheep Load\", \"Sheep Loss\", \"Sheep Pct\"])"
   ]
  },
  {
   "cell_type": "code",
   "execution_count": 19,
   "metadata": {},
   "outputs": [],
   "source": [
    "year16 = pd.merge(newjan_jun16, newjul_dec16, how ='outer', on =[\"Departure Date\",\"Buffalo Load\", \"Buffalo Loss\", \n",
    "                              \"Buffalo Pct\", \"Cattle Load\", \"Cattle Loss\", \"Cattle Pct\", \n",
    "                               \"Sheep Load\", \"Sheep Loss\", \"Sheep Pct\"])"
   ]
  },
  {
   "cell_type": "code",
   "execution_count": 20,
   "metadata": {},
   "outputs": [],
   "source": [
    "year17 = pd.merge(newjan_jun17, newjul_dec17, how ='outer', on =[\"Departure Date\",\"Buffalo Load\", \"Buffalo Loss\", \n",
    "                              \"Buffalo Pct\", \"Cattle Load\", \"Cattle Loss\", \"Cattle Pct\", \n",
    "                               \"Sheep Load\", \"Sheep Loss\", \"Sheep Pct\"])"
   ]
  },
  {
   "cell_type": "code",
   "execution_count": 21,
   "metadata": {},
   "outputs": [],
   "source": [
    "year18 = pd.merge(newjan_jun18, newjul_dec18, how ='outer', on =[\"Departure Date\",\"Buffalo Load\", \"Buffalo Loss\", \n",
    "                              \"Buffalo Pct\", \"Cattle Load\", \"Cattle Loss\", \"Cattle Pct\", \n",
    "                               \"Sheep Load\", \"Sheep Loss\", \"Sheep Pct\"])"
   ]
  },
  {
   "cell_type": "code",
   "execution_count": 22,
   "metadata": {},
   "outputs": [],
   "source": [
    "year19 = pd.merge(newjan_jun19, newjul_dec19, how ='outer', on =[\"Departure Date\",\"Buffalo Load\", \"Buffalo Loss\", \n",
    "                              \"Buffalo Pct\", \"Cattle Load\", \"Cattle Loss\", \"Cattle Pct\", \n",
    "                               \"Sheep Load\", \"Sheep Loss\", \"Sheep Pct\"])"
   ]
  },
  {
   "cell_type": "code",
   "execution_count": 23,
   "metadata": {},
   "outputs": [],
   "source": [
    "combined_df = pd.merge(year14, year15, how ='outer', on =[\"Departure Date\",\"Buffalo Load\", \"Buffalo Loss\", \n",
    "                              \"Buffalo Pct\", \"Cattle Load\", \"Cattle Loss\", \"Cattle Pct\", \n",
    "                               \"Sheep Load\", \"Sheep Loss\", \"Sheep Pct\"])"
   ]
  },
  {
   "cell_type": "code",
   "execution_count": 24,
   "metadata": {},
   "outputs": [],
   "source": [
    "combined_df = pd.merge(combined_df, year16, how ='outer', on =[\"Departure Date\",\"Buffalo Load\", \"Buffalo Loss\", \n",
    "                              \"Buffalo Pct\", \"Cattle Load\", \"Cattle Loss\", \"Cattle Pct\", \n",
    "                               \"Sheep Load\", \"Sheep Loss\", \"Sheep Pct\"])"
   ]
  },
  {
   "cell_type": "code",
   "execution_count": 25,
   "metadata": {},
   "outputs": [],
   "source": [
    "combined_df = pd.merge(combined_df, year17, how ='outer', on =[\"Departure Date\",\"Buffalo Load\", \"Buffalo Loss\", \n",
    "                              \"Buffalo Pct\", \"Cattle Load\", \"Cattle Loss\", \"Cattle Pct\", \n",
    "                               \"Sheep Load\", \"Sheep Loss\", \"Sheep Pct\"])"
   ]
  },
  {
   "cell_type": "code",
   "execution_count": 26,
   "metadata": {},
   "outputs": [],
   "source": [
    "combined_df = pd.merge(combined_df, year18, how ='outer', on =[\"Departure Date\",\"Buffalo Load\", \"Buffalo Loss\", \n",
    "                              \"Buffalo Pct\", \"Cattle Load\", \"Cattle Loss\", \"Cattle Pct\", \n",
    "                               \"Sheep Load\", \"Sheep Loss\", \"Sheep Pct\"])"
   ]
  },
  {
   "cell_type": "code",
   "execution_count": 27,
   "metadata": {},
   "outputs": [],
   "source": [
    "combined_df = pd.merge(combined_df, year19, how ='outer', on =[\"Departure Date\",\"Buffalo Load\", \"Buffalo Loss\", \n",
    "                              \"Buffalo Pct\", \"Cattle Load\", \"Cattle Loss\", \"Cattle Pct\", \n",
    "                               \"Sheep Load\", \"Sheep Loss\", \"Sheep Pct\"])"
   ]
  },
  {
   "cell_type": "code",
   "execution_count": 28,
   "metadata": {},
   "outputs": [],
   "source": [
    "cattle = combined_df[[\"Departure Date\",\"Cattle Load\",\"Cattle Loss\",\"Cattle Pct\"]]\n",
    "cattle = cattle[cattle[\"Cattle Load\"].notna()]\n",
    "cattle = cattle.fillna(0)"
   ]
  },
  {
   "cell_type": "code",
   "execution_count": 29,
   "metadata": {},
   "outputs": [],
   "source": [
    "sheep = combined_df[[\"Departure Date\",\"Sheep Load\",\"Sheep Loss\",\"Sheep Pct\"]]\n",
    "sheep = sheep[sheep[\"Sheep Load\"].notna()]\n",
    "sheep = sheep.fillna(0)"
   ]
  },
  {
   "cell_type": "code",
   "execution_count": 30,
   "metadata": {},
   "outputs": [],
   "source": [
    "buffalo = combined_df[[\"Departure Date\",\"Buffalo Load\",\"Buffalo Loss\",\"Buffalo Pct\"]]\n",
    "buffalo = buffalo[buffalo[\"Buffalo Load\"].notna()]\n",
    "buffalo = buffalo.fillna(0)"
   ]
  },
  {
   "cell_type": "code",
   "execution_count": 31,
   "metadata": {},
   "outputs": [
    {
     "data": {
      "text/plain": [
       "array(['Feb-14', 'Mar-14', 'Apr-14', 'May-14', 'Jul-14', 'Aug-14',\n",
       "       'Sep-14', 'Oct-14', 'Dec-14', 'Mar-15', 'Apr-15', 'May-15',\n",
       "       'Jun-15', 'Jul-15', 'Aug-15', 'Sep-15', 'Oct-15', 'Dec-15',\n",
       "       'Feb-16', 'Apr-16', 'Jun-16', 'May-16', 'Jul-16', 'Aug-16',\n",
       "       'Sep-16', 'Nov-16', 'Jan-17', 'Feb-17', 'Apr-17', 'Jun-17',\n",
       "       'Jul-17', 'Aug-17', 'Sep-17', 'Oct-17', 'Nov-17', 'Dec-17',\n",
       "       'Feb-18', 'Mar-18', 'Apr-18', 'May-18', 'Jun-18', 'Jul-18',\n",
       "       'Aug-18', 'Sep-18', 'Nov-18', 'Dec-18', 'Jan-19', 'Feb-19',\n",
       "       'Mar-19', 'Apr-19', 'May-19', 'Jun-19', 'Jul-19', 'Aug-19',\n",
       "       'Sep-19', 'Oct-19', 'Nov-19'], dtype=object)"
      ]
     },
     "execution_count": 31,
     "metadata": {},
     "output_type": "execute_result"
    }
   ],
   "source": [
    "buffalo[\"Departure Date\"].unique()"
   ]
  },
  {
   "cell_type": "code",
   "execution_count": 32,
   "metadata": {},
   "outputs": [
    {
     "data": {
      "text/html": [
       "<div>\n",
       "<style scoped>\n",
       "    .dataframe tbody tr th:only-of-type {\n",
       "        vertical-align: middle;\n",
       "    }\n",
       "\n",
       "    .dataframe tbody tr th {\n",
       "        vertical-align: top;\n",
       "    }\n",
       "\n",
       "    .dataframe thead th {\n",
       "        text-align: right;\n",
       "    }\n",
       "</style>\n",
       "<table border=\"1\" class=\"dataframe\">\n",
       "  <thead>\n",
       "    <tr style=\"text-align: right;\">\n",
       "      <th></th>\n",
       "      <th>Departure Date</th>\n",
       "      <th>Buffalo Load</th>\n",
       "      <th>Buffalo Loss</th>\n",
       "      <th>Buffalo Pct</th>\n",
       "      <th>Month</th>\n",
       "      <th>Year</th>\n",
       "    </tr>\n",
       "  </thead>\n",
       "  <tbody>\n",
       "    <tr>\n",
       "      <th>58</th>\n",
       "      <td>Feb-14</td>\n",
       "      <td>214.0</td>\n",
       "      <td>0.0</td>\n",
       "      <td>0.000000</td>\n",
       "      <td>Feb</td>\n",
       "      <td>14</td>\n",
       "    </tr>\n",
       "    <tr>\n",
       "      <th>76</th>\n",
       "      <td>Mar-14</td>\n",
       "      <td>404.0</td>\n",
       "      <td>0.0</td>\n",
       "      <td>0.000000</td>\n",
       "      <td>Mar</td>\n",
       "      <td>14</td>\n",
       "    </tr>\n",
       "    <tr>\n",
       "      <th>117</th>\n",
       "      <td>Apr-14</td>\n",
       "      <td>336.0</td>\n",
       "      <td>0.0</td>\n",
       "      <td>0.000000</td>\n",
       "      <td>Apr</td>\n",
       "      <td>14</td>\n",
       "    </tr>\n",
       "    <tr>\n",
       "      <th>142</th>\n",
       "      <td>May-14</td>\n",
       "      <td>176.0</td>\n",
       "      <td>2.0</td>\n",
       "      <td>0.011400</td>\n",
       "      <td>May</td>\n",
       "      <td>14</td>\n",
       "    </tr>\n",
       "    <tr>\n",
       "      <th>162</th>\n",
       "      <td>May-14</td>\n",
       "      <td>189.0</td>\n",
       "      <td>0.0</td>\n",
       "      <td>0.000000</td>\n",
       "      <td>May</td>\n",
       "      <td>14</td>\n",
       "    </tr>\n",
       "    <tr>\n",
       "      <th>...</th>\n",
       "      <td>...</td>\n",
       "      <td>...</td>\n",
       "      <td>...</td>\n",
       "      <td>...</td>\n",
       "      <td>...</td>\n",
       "      <td>...</td>\n",
       "    </tr>\n",
       "    <tr>\n",
       "      <th>1909</th>\n",
       "      <td>Oct-19</td>\n",
       "      <td>657.0</td>\n",
       "      <td>2.0</td>\n",
       "      <td>0.003044</td>\n",
       "      <td>Oct</td>\n",
       "      <td>19</td>\n",
       "    </tr>\n",
       "    <tr>\n",
       "      <th>1914</th>\n",
       "      <td>Nov-19</td>\n",
       "      <td>1012.0</td>\n",
       "      <td>23.0</td>\n",
       "      <td>0.022700</td>\n",
       "      <td>Nov</td>\n",
       "      <td>19</td>\n",
       "    </tr>\n",
       "    <tr>\n",
       "      <th>1916</th>\n",
       "      <td>Nov-19</td>\n",
       "      <td>236.0</td>\n",
       "      <td>2.0</td>\n",
       "      <td>0.008470</td>\n",
       "      <td>Nov</td>\n",
       "      <td>19</td>\n",
       "    </tr>\n",
       "    <tr>\n",
       "      <th>1920</th>\n",
       "      <td>Nov-19</td>\n",
       "      <td>178.0</td>\n",
       "      <td>0.0</td>\n",
       "      <td>0.000000</td>\n",
       "      <td>Nov</td>\n",
       "      <td>19</td>\n",
       "    </tr>\n",
       "    <tr>\n",
       "      <th>1955</th>\n",
       "      <td>Nov-19</td>\n",
       "      <td>278.0</td>\n",
       "      <td>0.0</td>\n",
       "      <td>0.000000</td>\n",
       "      <td>Nov</td>\n",
       "      <td>19</td>\n",
       "    </tr>\n",
       "  </tbody>\n",
       "</table>\n",
       "<p>118 rows × 6 columns</p>\n",
       "</div>"
      ],
      "text/plain": [
       "     Departure Date  Buffalo Load  Buffalo Loss  Buffalo Pct Month Year\n",
       "58           Feb-14         214.0           0.0     0.000000   Feb   14\n",
       "76           Mar-14         404.0           0.0     0.000000   Mar   14\n",
       "117          Apr-14         336.0           0.0     0.000000   Apr   14\n",
       "142          May-14         176.0           2.0     0.011400   May   14\n",
       "162          May-14         189.0           0.0     0.000000   May   14\n",
       "...             ...           ...           ...          ...   ...  ...\n",
       "1909         Oct-19         657.0           2.0     0.003044   Oct   19\n",
       "1914         Nov-19        1012.0          23.0     0.022700   Nov   19\n",
       "1916         Nov-19         236.0           2.0     0.008470   Nov   19\n",
       "1920         Nov-19         178.0           0.0     0.000000   Nov   19\n",
       "1955         Nov-19         278.0           0.0     0.000000   Nov   19\n",
       "\n",
       "[118 rows x 6 columns]"
      ]
     },
     "execution_count": 32,
     "metadata": {},
     "output_type": "execute_result"
    }
   ],
   "source": [
    "buffalo[\"Departure Date\"] = buffalo[\"Departure Date\"].astype(str)\n",
    "buffalo[[\"Month\",\"Year\"]] = buffalo[\"Departure Date\"].str.split(\"-\",expand=True,)\n",
    "buffalo"
   ]
  },
  {
   "cell_type": "code",
   "execution_count": 33,
   "metadata": {},
   "outputs": [
    {
     "data": {
      "text/html": [
       "<div>\n",
       "<style scoped>\n",
       "    .dataframe tbody tr th:only-of-type {\n",
       "        vertical-align: middle;\n",
       "    }\n",
       "\n",
       "    .dataframe tbody tr th {\n",
       "        vertical-align: top;\n",
       "    }\n",
       "\n",
       "    .dataframe thead th {\n",
       "        text-align: right;\n",
       "    }\n",
       "</style>\n",
       "<table border=\"1\" class=\"dataframe\">\n",
       "  <thead>\n",
       "    <tr style=\"text-align: right;\">\n",
       "      <th></th>\n",
       "      <th>Year</th>\n",
       "      <th>Buffalo Load</th>\n",
       "      <th>Buffalo Loss</th>\n",
       "    </tr>\n",
       "  </thead>\n",
       "  <tbody>\n",
       "    <tr>\n",
       "      <th>0</th>\n",
       "      <td>14</td>\n",
       "      <td>4093.0</td>\n",
       "      <td>19.0</td>\n",
       "    </tr>\n",
       "    <tr>\n",
       "      <th>1</th>\n",
       "      <td>15</td>\n",
       "      <td>5097.0</td>\n",
       "      <td>11.0</td>\n",
       "    </tr>\n",
       "    <tr>\n",
       "      <th>2</th>\n",
       "      <td>16</td>\n",
       "      <td>4230.0</td>\n",
       "      <td>22.0</td>\n",
       "    </tr>\n",
       "    <tr>\n",
       "      <th>3</th>\n",
       "      <td>17</td>\n",
       "      <td>7214.0</td>\n",
       "      <td>40.0</td>\n",
       "    </tr>\n",
       "    <tr>\n",
       "      <th>4</th>\n",
       "      <td>18</td>\n",
       "      <td>7147.0</td>\n",
       "      <td>32.0</td>\n",
       "    </tr>\n",
       "    <tr>\n",
       "      <th>5</th>\n",
       "      <td>19</td>\n",
       "      <td>9530.0</td>\n",
       "      <td>43.0</td>\n",
       "    </tr>\n",
       "  </tbody>\n",
       "</table>\n",
       "</div>"
      ],
      "text/plain": [
       "  Year  Buffalo Load  Buffalo Loss\n",
       "0   14        4093.0          19.0\n",
       "1   15        5097.0          11.0\n",
       "2   16        4230.0          22.0\n",
       "3   17        7214.0          40.0\n",
       "4   18        7147.0          32.0\n",
       "5   19        9530.0          43.0"
      ]
     },
     "execution_count": 33,
     "metadata": {},
     "output_type": "execute_result"
    }
   ],
   "source": [
    "buffalo_ml = buffalo[[\"Year\",\"Buffalo Load\",\"Buffalo Loss\"]]\n",
    "buffalo_ml = buffalo_ml.groupby(by=\"Year\",as_index = False).sum()\n",
    "buffalo_ml"
   ]
  },
  {
   "cell_type": "code",
   "execution_count": 34,
   "metadata": {},
   "outputs": [
    {
     "data": {
      "text/html": [
       "<div>\n",
       "<style scoped>\n",
       "    .dataframe tbody tr th:only-of-type {\n",
       "        vertical-align: middle;\n",
       "    }\n",
       "\n",
       "    .dataframe tbody tr th {\n",
       "        vertical-align: top;\n",
       "    }\n",
       "\n",
       "    .dataframe thead th {\n",
       "        text-align: right;\n",
       "    }\n",
       "</style>\n",
       "<table border=\"1\" class=\"dataframe\">\n",
       "  <thead>\n",
       "    <tr style=\"text-align: right;\">\n",
       "      <th></th>\n",
       "      <th>Year</th>\n",
       "      <th>Buffalo Load</th>\n",
       "      <th>Buffalo Loss</th>\n",
       "      <th>Buffalo Pct</th>\n",
       "    </tr>\n",
       "  </thead>\n",
       "  <tbody>\n",
       "    <tr>\n",
       "      <th>0</th>\n",
       "      <td>14</td>\n",
       "      <td>4093.0</td>\n",
       "      <td>19.0</td>\n",
       "      <td>0.464207</td>\n",
       "    </tr>\n",
       "    <tr>\n",
       "      <th>1</th>\n",
       "      <td>15</td>\n",
       "      <td>5097.0</td>\n",
       "      <td>11.0</td>\n",
       "      <td>0.215813</td>\n",
       "    </tr>\n",
       "    <tr>\n",
       "      <th>2</th>\n",
       "      <td>16</td>\n",
       "      <td>4230.0</td>\n",
       "      <td>22.0</td>\n",
       "      <td>0.520095</td>\n",
       "    </tr>\n",
       "    <tr>\n",
       "      <th>3</th>\n",
       "      <td>17</td>\n",
       "      <td>7214.0</td>\n",
       "      <td>40.0</td>\n",
       "      <td>0.554477</td>\n",
       "    </tr>\n",
       "    <tr>\n",
       "      <th>4</th>\n",
       "      <td>18</td>\n",
       "      <td>7147.0</td>\n",
       "      <td>32.0</td>\n",
       "      <td>0.447740</td>\n",
       "    </tr>\n",
       "    <tr>\n",
       "      <th>5</th>\n",
       "      <td>19</td>\n",
       "      <td>9530.0</td>\n",
       "      <td>43.0</td>\n",
       "      <td>0.451207</td>\n",
       "    </tr>\n",
       "  </tbody>\n",
       "</table>\n",
       "</div>"
      ],
      "text/plain": [
       "  Year  Buffalo Load  Buffalo Loss  Buffalo Pct\n",
       "0   14        4093.0          19.0     0.464207\n",
       "1   15        5097.0          11.0     0.215813\n",
       "2   16        4230.0          22.0     0.520095\n",
       "3   17        7214.0          40.0     0.554477\n",
       "4   18        7147.0          32.0     0.447740\n",
       "5   19        9530.0          43.0     0.451207"
      ]
     },
     "execution_count": 34,
     "metadata": {},
     "output_type": "execute_result"
    }
   ],
   "source": [
    "buffalo_ml[\"Buffalo Pct\"]= (buffalo_ml[\"Buffalo Loss\"]/buffalo_ml[\"Buffalo Load\"]) * 100\n",
    "buffalo_ml"
   ]
  },
  {
   "cell_type": "code",
   "execution_count": 35,
   "metadata": {},
   "outputs": [],
   "source": [
    "buffalo_ml.to_csv('Output/buffalo_ml.csv', index = True)"
   ]
  },
  {
   "cell_type": "code",
   "execution_count": 36,
   "metadata": {},
   "outputs": [],
   "source": [
    "sheep[\"Departure Date\"] = sheep[\"Departure Date\"].astype(str)\n",
    "sheep[[\"Month\",\"Year\"]] = sheep[\"Departure Date\"].str.split(\"-\",expand=True,)"
   ]
  },
  {
   "cell_type": "code",
   "execution_count": 37,
   "metadata": {},
   "outputs": [],
   "source": [
    "sheep_ml = sheep[[\"Year\",\"Sheep Load\",\"Sheep Loss\"]]\n",
    "sheep_ml = sheep_ml.groupby(by=\"Year\",as_index = False).sum()"
   ]
  },
  {
   "cell_type": "code",
   "execution_count": 38,
   "metadata": {},
   "outputs": [
    {
     "data": {
      "text/html": [
       "<div>\n",
       "<style scoped>\n",
       "    .dataframe tbody tr th:only-of-type {\n",
       "        vertical-align: middle;\n",
       "    }\n",
       "\n",
       "    .dataframe tbody tr th {\n",
       "        vertical-align: top;\n",
       "    }\n",
       "\n",
       "    .dataframe thead th {\n",
       "        text-align: right;\n",
       "    }\n",
       "</style>\n",
       "<table border=\"1\" class=\"dataframe\">\n",
       "  <thead>\n",
       "    <tr style=\"text-align: right;\">\n",
       "      <th></th>\n",
       "      <th>Year</th>\n",
       "      <th>Sheep Load</th>\n",
       "      <th>Sheep Loss</th>\n",
       "      <th>Sheep Pct</th>\n",
       "    </tr>\n",
       "  </thead>\n",
       "  <tbody>\n",
       "    <tr>\n",
       "      <th>0</th>\n",
       "      <td>13</td>\n",
       "      <td>225985.0</td>\n",
       "      <td>1169.0</td>\n",
       "      <td>0.517291</td>\n",
       "    </tr>\n",
       "    <tr>\n",
       "      <th>1</th>\n",
       "      <td>14</td>\n",
       "      <td>2159664.0</td>\n",
       "      <td>15563.0</td>\n",
       "      <td>0.720621</td>\n",
       "    </tr>\n",
       "    <tr>\n",
       "      <th>2</th>\n",
       "      <td>15</td>\n",
       "      <td>2015279.0</td>\n",
       "      <td>12910.0</td>\n",
       "      <td>0.640606</td>\n",
       "    </tr>\n",
       "    <tr>\n",
       "      <th>3</th>\n",
       "      <td>16</td>\n",
       "      <td>1705575.0</td>\n",
       "      <td>13667.0</td>\n",
       "      <td>0.801313</td>\n",
       "    </tr>\n",
       "    <tr>\n",
       "      <th>4</th>\n",
       "      <td>17</td>\n",
       "      <td>1845272.0</td>\n",
       "      <td>13183.0</td>\n",
       "      <td>0.714420</td>\n",
       "    </tr>\n",
       "    <tr>\n",
       "      <th>5</th>\n",
       "      <td>18</td>\n",
       "      <td>1143498.0</td>\n",
       "      <td>5387.0</td>\n",
       "      <td>0.471098</td>\n",
       "    </tr>\n",
       "    <tr>\n",
       "      <th>6</th>\n",
       "      <td>19</td>\n",
       "      <td>969513.0</td>\n",
       "      <td>2472.0</td>\n",
       "      <td>0.254973</td>\n",
       "    </tr>\n",
       "  </tbody>\n",
       "</table>\n",
       "</div>"
      ],
      "text/plain": [
       "  Year  Sheep Load  Sheep Loss  Sheep Pct\n",
       "0   13    225985.0      1169.0   0.517291\n",
       "1   14   2159664.0     15563.0   0.720621\n",
       "2   15   2015279.0     12910.0   0.640606\n",
       "3   16   1705575.0     13667.0   0.801313\n",
       "4   17   1845272.0     13183.0   0.714420\n",
       "5   18   1143498.0      5387.0   0.471098\n",
       "6   19    969513.0      2472.0   0.254973"
      ]
     },
     "execution_count": 38,
     "metadata": {},
     "output_type": "execute_result"
    }
   ],
   "source": [
    "sheep_ml[\"Sheep Pct\"]= (sheep_ml[\"Sheep Loss\"]/sheep_ml[\"Sheep Load\"]) * 100\n",
    "sheep_ml"
   ]
  },
  {
   "cell_type": "code",
   "execution_count": 39,
   "metadata": {},
   "outputs": [],
   "source": [
    "sheep_ml.to_csv('Output/sheep_ml.csv', index = True)"
   ]
  },
  {
   "cell_type": "code",
   "execution_count": 40,
   "metadata": {},
   "outputs": [],
   "source": [
    "cattle[\"Departure Date\"] = cattle[\"Departure Date\"].astype(str)\n",
    "cattle[[\"Month\",\"Year\"]] = cattle[\"Departure Date\"].str.split(\"-\",expand=True,)"
   ]
  },
  {
   "cell_type": "code",
   "execution_count": 41,
   "metadata": {},
   "outputs": [],
   "source": [
    "cattle_ml = cattle[[\"Year\",\"Cattle Load\",\"Cattle Loss\"]]\n",
    "cattle_ml = cattle_ml.groupby(by=\"Year\",as_index = False).sum()"
   ]
  },
  {
   "cell_type": "code",
   "execution_count": 42,
   "metadata": {},
   "outputs": [],
   "source": [
    "cattle_ml = cattle[[\"Year\",\"Cattle Load\",\"Cattle Loss\"]]\n",
    "cattle_ml = cattle_ml.groupby(by=\"Year\",as_index = False).sum()"
   ]
  },
  {
   "cell_type": "code",
   "execution_count": 43,
   "metadata": {},
   "outputs": [
    {
     "data": {
      "text/html": [
       "<div>\n",
       "<style scoped>\n",
       "    .dataframe tbody tr th:only-of-type {\n",
       "        vertical-align: middle;\n",
       "    }\n",
       "\n",
       "    .dataframe tbody tr th {\n",
       "        vertical-align: top;\n",
       "    }\n",
       "\n",
       "    .dataframe thead th {\n",
       "        text-align: right;\n",
       "    }\n",
       "</style>\n",
       "<table border=\"1\" class=\"dataframe\">\n",
       "  <thead>\n",
       "    <tr style=\"text-align: right;\">\n",
       "      <th></th>\n",
       "      <th>Year</th>\n",
       "      <th>Cattle Load</th>\n",
       "      <th>Cattle Loss</th>\n",
       "      <th>Cattle Pct</th>\n",
       "    </tr>\n",
       "  </thead>\n",
       "  <tbody>\n",
       "    <tr>\n",
       "      <th>0</th>\n",
       "      <td>13</td>\n",
       "      <td>100395.0</td>\n",
       "      <td>126.0</td>\n",
       "      <td>0.125504</td>\n",
       "    </tr>\n",
       "    <tr>\n",
       "      <th>1</th>\n",
       "      <td>14</td>\n",
       "      <td>1276490.0</td>\n",
       "      <td>1638.0</td>\n",
       "      <td>0.128321</td>\n",
       "    </tr>\n",
       "    <tr>\n",
       "      <th>2</th>\n",
       "      <td>15</td>\n",
       "      <td>1297203.0</td>\n",
       "      <td>1359.0</td>\n",
       "      <td>0.104764</td>\n",
       "    </tr>\n",
       "    <tr>\n",
       "      <th>3</th>\n",
       "      <td>16</td>\n",
       "      <td>1138035.0</td>\n",
       "      <td>1534.0</td>\n",
       "      <td>0.134794</td>\n",
       "    </tr>\n",
       "    <tr>\n",
       "      <th>4</th>\n",
       "      <td>17</td>\n",
       "      <td>862226.0</td>\n",
       "      <td>875.0</td>\n",
       "      <td>0.101482</td>\n",
       "    </tr>\n",
       "    <tr>\n",
       "      <th>5</th>\n",
       "      <td>18</td>\n",
       "      <td>1113685.0</td>\n",
       "      <td>1327.0</td>\n",
       "      <td>0.119154</td>\n",
       "    </tr>\n",
       "    <tr>\n",
       "      <th>6</th>\n",
       "      <td>19</td>\n",
       "      <td>1243740.0</td>\n",
       "      <td>1231.0</td>\n",
       "      <td>0.098976</td>\n",
       "    </tr>\n",
       "  </tbody>\n",
       "</table>\n",
       "</div>"
      ],
      "text/plain": [
       "  Year  Cattle Load  Cattle Loss  Cattle Pct\n",
       "0   13     100395.0        126.0    0.125504\n",
       "1   14    1276490.0       1638.0    0.128321\n",
       "2   15    1297203.0       1359.0    0.104764\n",
       "3   16    1138035.0       1534.0    0.134794\n",
       "4   17     862226.0        875.0    0.101482\n",
       "5   18    1113685.0       1327.0    0.119154\n",
       "6   19    1243740.0       1231.0    0.098976"
      ]
     },
     "execution_count": 43,
     "metadata": {},
     "output_type": "execute_result"
    }
   ],
   "source": [
    "cattle_ml[\"Cattle Pct\"]= (cattle_ml[\"Cattle Loss\"]/cattle_ml[\"Cattle Load\"]) * 100\n",
    "cattle_ml"
   ]
  },
  {
   "cell_type": "code",
   "execution_count": 44,
   "metadata": {},
   "outputs": [],
   "source": [
    "cattle_ml.to_csv('Output/cattle_ml.csv', index = True)"
   ]
  }
 ],
 "metadata": {
  "kernelspec": {
   "display_name": "Python 3",
   "language": "python",
   "name": "python3"
  },
  "language_info": {
   "codemirror_mode": {
    "name": "ipython",
    "version": 3
   },
   "file_extension": ".py",
   "mimetype": "text/x-python",
   "name": "python",
   "nbconvert_exporter": "python",
   "pygments_lexer": "ipython3",
   "version": "3.7.7"
  }
 },
 "nbformat": 4,
 "nbformat_minor": 4
}
