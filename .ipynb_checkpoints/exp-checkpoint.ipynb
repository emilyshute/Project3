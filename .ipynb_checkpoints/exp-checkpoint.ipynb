{
 "cells": [
  {
   "cell_type": "code",
   "execution_count": 1,
   "metadata": {},
   "outputs": [],
   "source": [
    "%matplotlib inline"
   ]
  },
  {
   "cell_type": "code",
   "execution_count": 2,
   "metadata": {},
   "outputs": [],
   "source": [
    "import matplotlib.pyplot as plt\n",
    "import numpy as np\n",
    "import pandas as pd"
   ]
  },
  {
   "cell_type": "code",
   "execution_count": 3,
   "metadata": {},
   "outputs": [],
   "source": [
    "jan_jun14_path = \"/Users/matthewvicario/Desktop/Project3/Resources/jan-jun14.csv\"\n",
    "jul_dec14_path = \"/Users/matthewvicario/Desktop/Project3/Resources/jul-dec14.csv\"\n",
    "jan_jun15_path = \"/Users/matthewvicario/Desktop/Project3/Resources/jan-jun15.csv\"\n",
    "jul_dec15_path = \"/Users/matthewvicario/Desktop/Project3/Resources/jul-dec15.csv\"\n",
    "jan_jun16_path = \"/Users/matthewvicario/Desktop/Project3/Resources/jan-jun16.csv\"\n",
    "jul_dec16_path = \"/Users/matthewvicario/Desktop/Project3/Resources/jul-dec16.csv\"\n",
    "jan_jun17_path = \"/Users/matthewvicario/Desktop/Project3/Resources/jan-jun17.csv\"\n",
    "jul_dec17_path = \"/Users/matthewvicario/Desktop/Project3/Resources/jul-dec17.csv\"\n",
    "jan_jun18_path = \"/Users/matthewvicario/Desktop/Project3/Resources/jan-jun18.csv\"\n",
    "jul_dec18_path = \"/Users/matthewvicario/Desktop/Project3/Resources/jul-dec18.csv\"\n",
    "jan_jun19_path = \"/Users/matthewvicario/Desktop/Project3/Resources/jan-jun19.csv\"\n",
    "jul_dec19_path = \"/Users/matthewvicario/Desktop/Project3/Resources/jul-dec19.csv\""
   ]
  },
  {
   "cell_type": "code",
   "execution_count": 4,
   "metadata": {},
   "outputs": [
    {
     "data": {
      "text/html": [
       "<div>\n",
       "<style scoped>\n",
       "    .dataframe tbody tr th:only-of-type {\n",
       "        vertical-align: middle;\n",
       "    }\n",
       "\n",
       "    .dataframe tbody tr th {\n",
       "        vertical-align: top;\n",
       "    }\n",
       "\n",
       "    .dataframe thead th {\n",
       "        text-align: right;\n",
       "    }\n",
       "</style>\n",
       "<table border=\"1\" class=\"dataframe\">\n",
       "  <thead>\n",
       "    <tr style=\"text-align: right;\">\n",
       "      <th></th>\n",
       "      <th>Departure Date</th>\n",
       "      <th>Unnamed: 1</th>\n",
       "      <th>Loading Port(s)</th>\n",
       "      <th>Destination Port(s)</th>\n",
       "      <th>Duration (days)</th>\n",
       "      <th>Discharge Date</th>\n",
       "      <th>Cattle Load</th>\n",
       "      <th>Cattle Loss</th>\n",
       "      <th>Cattle Pct</th>\n",
       "      <th>Sheep Load</th>\n",
       "      <th>Sheep Loss</th>\n",
       "      <th>Sheep Pct</th>\n",
       "      <th>Buffalo Load</th>\n",
       "      <th>Buffalo Loss</th>\n",
       "      <th>Buffalo Pct</th>\n",
       "    </tr>\n",
       "  </thead>\n",
       "  <tbody>\n",
       "    <tr>\n",
       "      <th>0</th>\n",
       "      <td>Dec-14</td>\n",
       "      <td>NaN</td>\n",
       "      <td>Townsville</td>\n",
       "      <td>Jakarta/Panjang</td>\n",
       "      <td>10</td>\n",
       "      <td>Dec-14</td>\n",
       "      <td>16639.0</td>\n",
       "      <td>30.0</td>\n",
       "      <td>0.0018</td>\n",
       "      <td>NaN</td>\n",
       "      <td>NaN</td>\n",
       "      <td>NaN</td>\n",
       "      <td>NaN</td>\n",
       "      <td>NaN</td>\n",
       "      <td>NaN</td>\n",
       "    </tr>\n",
       "    <tr>\n",
       "      <th>1</th>\n",
       "      <td>Dec-14</td>\n",
       "      <td>NaN</td>\n",
       "      <td>Portland</td>\n",
       "      <td>Novorossiysk</td>\n",
       "      <td>36</td>\n",
       "      <td>Jan-15</td>\n",
       "      <td>15788.0</td>\n",
       "      <td>55.0</td>\n",
       "      <td>0.0035</td>\n",
       "      <td>NaN</td>\n",
       "      <td>NaN</td>\n",
       "      <td>NaN</td>\n",
       "      <td>NaN</td>\n",
       "      <td>NaN</td>\n",
       "      <td>NaN</td>\n",
       "    </tr>\n",
       "    <tr>\n",
       "      <th>2</th>\n",
       "      <td>Dec-14</td>\n",
       "      <td>NaN</td>\n",
       "      <td>Darwin</td>\n",
       "      <td>Ho Chi Minh</td>\n",
       "      <td>13</td>\n",
       "      <td>Dec-14</td>\n",
       "      <td>5411.0</td>\n",
       "      <td>6.0</td>\n",
       "      <td>0.0011</td>\n",
       "      <td>NaN</td>\n",
       "      <td>NaN</td>\n",
       "      <td>NaN</td>\n",
       "      <td>NaN</td>\n",
       "      <td>NaN</td>\n",
       "      <td>NaN</td>\n",
       "    </tr>\n",
       "    <tr>\n",
       "      <th>3</th>\n",
       "      <td>Dec-14</td>\n",
       "      <td>NaN</td>\n",
       "      <td>Portland</td>\n",
       "      <td>Tianjin</td>\n",
       "      <td>20</td>\n",
       "      <td>Jan-15</td>\n",
       "      <td>10685.0</td>\n",
       "      <td>13.0</td>\n",
       "      <td>0.0012</td>\n",
       "      <td>NaN</td>\n",
       "      <td>NaN</td>\n",
       "      <td>NaN</td>\n",
       "      <td>NaN</td>\n",
       "      <td>NaN</td>\n",
       "      <td>NaN</td>\n",
       "    </tr>\n",
       "    <tr>\n",
       "      <th>4</th>\n",
       "      <td>Dec-14</td>\n",
       "      <td>NaN</td>\n",
       "      <td>Townsville</td>\n",
       "      <td>Lotus Port</td>\n",
       "      <td>13</td>\n",
       "      <td>Jan-15</td>\n",
       "      <td>4241.0</td>\n",
       "      <td>4.0</td>\n",
       "      <td>0.0009</td>\n",
       "      <td>NaN</td>\n",
       "      <td>NaN</td>\n",
       "      <td>NaN</td>\n",
       "      <td>NaN</td>\n",
       "      <td>NaN</td>\n",
       "      <td>NaN</td>\n",
       "    </tr>\n",
       "    <tr>\n",
       "      <th>...</th>\n",
       "      <td>...</td>\n",
       "      <td>...</td>\n",
       "      <td>...</td>\n",
       "      <td>...</td>\n",
       "      <td>...</td>\n",
       "      <td>...</td>\n",
       "      <td>...</td>\n",
       "      <td>...</td>\n",
       "      <td>...</td>\n",
       "      <td>...</td>\n",
       "      <td>...</td>\n",
       "      <td>...</td>\n",
       "      <td>...</td>\n",
       "      <td>...</td>\n",
       "      <td>...</td>\n",
       "    </tr>\n",
       "    <tr>\n",
       "      <th>174</th>\n",
       "      <td>Jun-15</td>\n",
       "      <td>NaN</td>\n",
       "      <td>Darwin</td>\n",
       "      <td>Muara</td>\n",
       "      <td>8</td>\n",
       "      <td>Jun-15</td>\n",
       "      <td>1300.0</td>\n",
       "      <td>0.0</td>\n",
       "      <td>0.0000</td>\n",
       "      <td>NaN</td>\n",
       "      <td>NaN</td>\n",
       "      <td>NaN</td>\n",
       "      <td>100.0</td>\n",
       "      <td>0.0</td>\n",
       "      <td>0.0</td>\n",
       "    </tr>\n",
       "    <tr>\n",
       "      <th>175</th>\n",
       "      <td>Jun-15</td>\n",
       "      <td>NaN</td>\n",
       "      <td>Darwin</td>\n",
       "      <td>Haiphong</td>\n",
       "      <td>11</td>\n",
       "      <td>Jun-15</td>\n",
       "      <td>2234.0</td>\n",
       "      <td>3.0</td>\n",
       "      <td>0.0013</td>\n",
       "      <td>NaN</td>\n",
       "      <td>NaN</td>\n",
       "      <td>NaN</td>\n",
       "      <td>NaN</td>\n",
       "      <td>NaN</td>\n",
       "      <td>NaN</td>\n",
       "    </tr>\n",
       "    <tr>\n",
       "      <th>176</th>\n",
       "      <td>Jun-15</td>\n",
       "      <td>NaN</td>\n",
       "      <td>Darwin</td>\n",
       "      <td>Belawan</td>\n",
       "      <td>8</td>\n",
       "      <td>Jun-15</td>\n",
       "      <td>3840.0</td>\n",
       "      <td>3.0</td>\n",
       "      <td>0.0008</td>\n",
       "      <td>NaN</td>\n",
       "      <td>NaN</td>\n",
       "      <td>NaN</td>\n",
       "      <td>NaN</td>\n",
       "      <td>NaN</td>\n",
       "      <td>NaN</td>\n",
       "    </tr>\n",
       "    <tr>\n",
       "      <th>177</th>\n",
       "      <td>Jun-15</td>\n",
       "      <td>NaN</td>\n",
       "      <td>Wyndham</td>\n",
       "      <td>Jakarta</td>\n",
       "      <td>7</td>\n",
       "      <td>Jun-15</td>\n",
       "      <td>2081.0</td>\n",
       "      <td>0.0</td>\n",
       "      <td>0.0000</td>\n",
       "      <td>NaN</td>\n",
       "      <td>NaN</td>\n",
       "      <td>NaN</td>\n",
       "      <td>NaN</td>\n",
       "      <td>NaN</td>\n",
       "      <td>NaN</td>\n",
       "    </tr>\n",
       "    <tr>\n",
       "      <th>178</th>\n",
       "      <td>Jun-15</td>\n",
       "      <td>NaN</td>\n",
       "      <td>Darwin</td>\n",
       "      <td>Panjang</td>\n",
       "      <td>6</td>\n",
       "      <td>Jun-15</td>\n",
       "      <td>6548.0</td>\n",
       "      <td>1.0</td>\n",
       "      <td>0.0002</td>\n",
       "      <td>NaN</td>\n",
       "      <td>NaN</td>\n",
       "      <td>NaN</td>\n",
       "      <td>NaN</td>\n",
       "      <td>NaN</td>\n",
       "      <td>NaN</td>\n",
       "    </tr>\n",
       "  </tbody>\n",
       "</table>\n",
       "<p>179 rows × 15 columns</p>\n",
       "</div>"
      ],
      "text/plain": [
       "    Departure Date Unnamed: 1 Loading Port(s) Destination Port(s)  \\\n",
       "0           Dec-14        NaN      Townsville     Jakarta/Panjang   \n",
       "1           Dec-14        NaN        Portland        Novorossiysk   \n",
       "2           Dec-14        NaN          Darwin         Ho Chi Minh   \n",
       "3           Dec-14        NaN        Portland             Tianjin   \n",
       "4           Dec-14        NaN      Townsville          Lotus Port   \n",
       "..             ...        ...             ...                 ...   \n",
       "174         Jun-15        NaN          Darwin               Muara   \n",
       "175         Jun-15        NaN          Darwin            Haiphong   \n",
       "176         Jun-15        NaN          Darwin             Belawan   \n",
       "177         Jun-15        NaN         Wyndham             Jakarta   \n",
       "178         Jun-15        NaN          Darwin             Panjang   \n",
       "\n",
       "     Duration (days) Discharge Date  Cattle Load  Cattle Loss  Cattle Pct  \\\n",
       "0                 10         Dec-14      16639.0         30.0      0.0018   \n",
       "1                 36         Jan-15      15788.0         55.0      0.0035   \n",
       "2                 13         Dec-14       5411.0          6.0      0.0011   \n",
       "3                 20         Jan-15      10685.0         13.0      0.0012   \n",
       "4                 13         Jan-15       4241.0          4.0      0.0009   \n",
       "..               ...            ...          ...          ...         ...   \n",
       "174                8         Jun-15       1300.0          0.0      0.0000   \n",
       "175               11         Jun-15       2234.0          3.0      0.0013   \n",
       "176                8         Jun-15       3840.0          3.0      0.0008   \n",
       "177                7         Jun-15       2081.0          0.0      0.0000   \n",
       "178                6         Jun-15       6548.0          1.0      0.0002   \n",
       "\n",
       "     Sheep Load  Sheep Loss  Sheep Pct  Buffalo Load  Buffalo Loss  \\\n",
       "0           NaN         NaN        NaN           NaN           NaN   \n",
       "1           NaN         NaN        NaN           NaN           NaN   \n",
       "2           NaN         NaN        NaN           NaN           NaN   \n",
       "3           NaN         NaN        NaN           NaN           NaN   \n",
       "4           NaN         NaN        NaN           NaN           NaN   \n",
       "..          ...         ...        ...           ...           ...   \n",
       "174         NaN         NaN        NaN         100.0           0.0   \n",
       "175         NaN         NaN        NaN           NaN           NaN   \n",
       "176         NaN         NaN        NaN           NaN           NaN   \n",
       "177         NaN         NaN        NaN           NaN           NaN   \n",
       "178         NaN         NaN        NaN           NaN           NaN   \n",
       "\n",
       "     Buffalo Pct  \n",
       "0            NaN  \n",
       "1            NaN  \n",
       "2            NaN  \n",
       "3            NaN  \n",
       "4            NaN  \n",
       "..           ...  \n",
       "174          0.0  \n",
       "175          NaN  \n",
       "176          NaN  \n",
       "177          NaN  \n",
       "178          NaN  \n",
       "\n",
       "[179 rows x 15 columns]"
      ]
     },
     "execution_count": 4,
     "metadata": {},
     "output_type": "execute_result"
    }
   ],
   "source": [
    "jan_jun14_data = pd.read_csv(jan_jun14_path)\n",
    "jul_dec14_data = pd.read_csv(jul_dec14_path)\n",
    "jan_jun15_data = pd.read_csv(jan_jun15_path)\n",
    "jul_dec15_data = pd.read_csv(jul_dec15_path)\n",
    "jan_jun16_data = pd.read_csv(jan_jun16_path)\n",
    "jul_dec16_data = pd.read_csv(jul_dec16_path)\n",
    "jan_jun17_data = pd.read_csv(jan_jun17_path)\n",
    "jul_dec17_data = pd.read_csv(jul_dec17_path)\n",
    "jan_jun18_data = pd.read_csv(jan_jun18_path)\n",
    "jul_dec18_data = pd.read_csv(jul_dec18_path)\n",
    "jan_jun19_data = pd.read_csv(jan_jun19_path)\n",
    "jul_dec19_data = pd.read_csv(jul_dec19_path)\n",
    "jan_jun15_data"
   ]
  },
  {
   "cell_type": "code",
   "execution_count": 5,
   "metadata": {},
   "outputs": [],
   "source": [
    "newjan_jun14 = jan_jun14_data[[\"Departure Date\", \"Buffalo Load\", \"Buffalo Loss\", \n",
    "                              \"Buffalo Pct\", \"Cattle Load\", \"Cattle Loss\", \"Cattle Pct\", \n",
    "                               \"Sheep Load\", \"Sheep Loss\", \"Sheep Pct\", \"Duration (days)\"]]"
   ]
  },
  {
   "cell_type": "code",
   "execution_count": 6,
   "metadata": {},
   "outputs": [],
   "source": [
    "newjul_dec14 = jul_dec14_data[[\"Departure Date\", \"Buffalo Load\", \"Buffalo Loss\", \n",
    "                              \"Buffalo Pct\", \"Cattle Load\", \"Cattle Loss\", \"Cattle Pct\", \n",
    "                               \"Sheep Load\", \"Sheep Loss\", \"Sheep Pct\", \"Duration (days)\"]]"
   ]
  },
  {
   "cell_type": "code",
   "execution_count": 7,
   "metadata": {},
   "outputs": [],
   "source": [
    "newjan_jun15 = jan_jun15_data[[\"Departure Date\", \"Buffalo Load\", \"Buffalo Loss\", \n",
    "                              \"Buffalo Pct\", \"Cattle Load\", \"Cattle Loss\", \"Cattle Pct\", \n",
    "                               \"Sheep Load\", \"Sheep Loss\", \"Sheep Pct\", \"Duration (days)\"]]"
   ]
  },
  {
   "cell_type": "code",
   "execution_count": 8,
   "metadata": {},
   "outputs": [],
   "source": [
    "newjul_dec15 = jul_dec15_data[[\"Departure Date\", \"Buffalo Load\", \"Buffalo Loss\", \n",
    "                              \"Buffalo Pct\", \"Cattle Load\", \"Cattle Loss\", \"Cattle Pct\", \n",
    "                               \"Sheep Load\", \"Sheep Loss\", \"Sheep Pct\", \"Duration (days)\"]]"
   ]
  },
  {
   "cell_type": "code",
   "execution_count": 9,
   "metadata": {},
   "outputs": [],
   "source": [
    "newjan_jun16 = jan_jun16_data[[\"Departure Date\", \"Buffalo Load\", \"Buffalo Loss\", \n",
    "                              \"Buffalo Pct\", \"Cattle Load\", \"Cattle Loss\", \"Cattle Pct\", \n",
    "                               \"Sheep Load\", \"Sheep Loss\", \"Sheep Pct\", \"Duration (days)\"]]"
   ]
  },
  {
   "cell_type": "code",
   "execution_count": 10,
   "metadata": {},
   "outputs": [],
   "source": [
    "newjul_dec16 = jul_dec16_data[[\"Departure Date\", \"Buffalo Load\", \"Buffalo Loss\", \n",
    "                              \"Buffalo Pct\", \"Cattle Load\", \"Cattle Loss\", \"Cattle Pct\", \n",
    "                               \"Sheep Load\", \"Sheep Loss\", \"Sheep Pct\", \"Duration (days)\"]]"
   ]
  },
  {
   "cell_type": "code",
   "execution_count": 11,
   "metadata": {},
   "outputs": [],
   "source": [
    "newjan_jun17 = jan_jun17_data[[\"Departure Date\", \"Buffalo Load\", \"Buffalo Loss\", \n",
    "                              \"Buffalo Pct\", \"Cattle Load\", \"Cattle Loss\", \"Cattle Pct\", \n",
    "                               \"Sheep Load\", \"Sheep Loss\", \"Sheep Pct\", \"Duration (days)\"]]"
   ]
  },
  {
   "cell_type": "code",
   "execution_count": 12,
   "metadata": {},
   "outputs": [],
   "source": [
    "newjul_dec17 = jul_dec17_data[[\"Departure Date\", \"Buffalo Load\", \"Buffalo Loss\", \n",
    "                              \"Buffalo Pct\", \"Cattle Load\", \"Cattle Loss\", \"Cattle Pct\", \n",
    "                               \"Sheep Load\", \"Sheep Loss\", \"Sheep Pct\", \"Duration (days)\"]]"
   ]
  },
  {
   "cell_type": "code",
   "execution_count": 13,
   "metadata": {},
   "outputs": [],
   "source": [
    "newjan_jun18 = jan_jun18_data[[\"Departure Date\", \"Buffalo Load\", \"Buffalo Loss\", \n",
    "                              \"Buffalo Pct\", \"Cattle Load\", \"Cattle Loss\", \"Cattle Pct\", \n",
    "                               \"Sheep Load\", \"Sheep Loss\", \"Sheep Pct\", \"Duration (days)\"]]"
   ]
  },
  {
   "cell_type": "code",
   "execution_count": 14,
   "metadata": {},
   "outputs": [],
   "source": [
    "newjul_dec18 = jul_dec18_data[[\"Departure Date\", \"Buffalo Load\", \"Buffalo Loss\", \n",
    "                              \"Buffalo Pct\", \"Cattle Load\", \"Cattle Loss\", \"Cattle Pct\", \n",
    "                               \"Sheep Load\", \"Sheep Loss\", \"Sheep Pct\", \"Duration (days)\"]]"
   ]
  },
  {
   "cell_type": "code",
   "execution_count": 15,
   "metadata": {},
   "outputs": [],
   "source": [
    "newjan_jun19 = jan_jun19_data[[\"Departure Date\", \"Buffalo Load\", \"Buffalo Loss\", \n",
    "                              \"Buffalo Pct\", \"Cattle Load\", \"Cattle Loss\", \"Cattle Pct\", \n",
    "                               \"Sheep Load\", \"Sheep Loss\", \"Sheep Pct\", \"Duration (days)\"]]"
   ]
  },
  {
   "cell_type": "code",
   "execution_count": 16,
   "metadata": {},
   "outputs": [],
   "source": [
    "newjul_dec19 = jul_dec19_data[[\"Departure Date\", \"Buffalo Load\", \"Buffalo Loss\", \n",
    "                              \"Buffalo Pct\", \"Cattle Load\", \"Cattle Loss\", \"Cattle Pct\", \n",
    "                               \"Sheep Load\", \"Sheep Loss\", \"Sheep Pct\", \"Duration (days)\"]]"
   ]
  },
  {
   "cell_type": "code",
   "execution_count": 17,
   "metadata": {},
   "outputs": [],
   "source": [
    "year14 = pd.merge(newjan_jun14, newjul_dec14, how ='outer', on =[\"Departure Date\",\"Buffalo Load\", \"Buffalo Loss\", \n",
    "                              \"Buffalo Pct\", \"Cattle Load\", \"Cattle Loss\", \"Cattle Pct\", \n",
    "                               \"Sheep Load\", \"Sheep Loss\", \"Sheep Pct\",\"Duration (days)\"])"
   ]
  },
  {
   "cell_type": "code",
   "execution_count": 18,
   "metadata": {},
   "outputs": [],
   "source": [
    "year15 = pd.merge(newjan_jun15, newjul_dec15, how ='outer', on =[\"Departure Date\",\"Buffalo Load\", \"Buffalo Loss\", \n",
    "                              \"Buffalo Pct\", \"Cattle Load\", \"Cattle Loss\", \"Cattle Pct\", \n",
    "                               \"Sheep Load\", \"Sheep Loss\", \"Sheep Pct\",\"Duration (days)\"])"
   ]
  },
  {
   "cell_type": "code",
   "execution_count": 19,
   "metadata": {},
   "outputs": [],
   "source": [
    "year16 = pd.merge(newjan_jun16, newjul_dec16, how ='outer', on =[\"Departure Date\",\"Buffalo Load\", \"Buffalo Loss\", \n",
    "                              \"Buffalo Pct\", \"Cattle Load\", \"Cattle Loss\", \"Cattle Pct\", \n",
    "                               \"Sheep Load\", \"Sheep Loss\", \"Sheep Pct\",\"Duration (days)\"])"
   ]
  },
  {
   "cell_type": "code",
   "execution_count": 20,
   "metadata": {},
   "outputs": [],
   "source": [
    "year17 = pd.merge(newjan_jun17, newjul_dec17, how ='outer', on =[\"Departure Date\",\"Buffalo Load\", \"Buffalo Loss\", \n",
    "                              \"Buffalo Pct\", \"Cattle Load\", \"Cattle Loss\", \"Cattle Pct\", \n",
    "                               \"Sheep Load\", \"Sheep Loss\", \"Sheep Pct\", \"Duration (days)\"])"
   ]
  },
  {
   "cell_type": "code",
   "execution_count": 21,
   "metadata": {},
   "outputs": [],
   "source": [
    "year18 = pd.merge(newjan_jun18, newjul_dec18, how ='outer', on =[\"Departure Date\",\"Buffalo Load\", \"Buffalo Loss\", \n",
    "                              \"Buffalo Pct\", \"Cattle Load\", \"Cattle Loss\", \"Cattle Pct\", \n",
    "                               \"Sheep Load\", \"Sheep Loss\", \"Sheep Pct\", \"Duration (days)\"])"
   ]
  },
  {
   "cell_type": "code",
   "execution_count": 22,
   "metadata": {},
   "outputs": [],
   "source": [
    "year19 = pd.merge(newjan_jun19, newjul_dec19, how ='outer', on =[\"Departure Date\",\"Buffalo Load\", \"Buffalo Loss\", \n",
    "                              \"Buffalo Pct\", \"Cattle Load\", \"Cattle Loss\", \"Cattle Pct\", \n",
    "                               \"Sheep Load\", \"Sheep Loss\", \"Sheep Pct\", \"Duration (days)\"])"
   ]
  },
  {
   "cell_type": "code",
   "execution_count": 23,
   "metadata": {},
   "outputs": [],
   "source": [
    "combined_df = pd.merge(year14, year15, how ='outer', on =[\"Departure Date\",\"Buffalo Load\", \"Buffalo Loss\", \n",
    "                              \"Buffalo Pct\", \"Cattle Load\", \"Cattle Loss\", \"Cattle Pct\", \n",
    "                               \"Sheep Load\", \"Sheep Loss\", \"Sheep Pct\", \"Duration (days)\"])"
   ]
  },
  {
   "cell_type": "code",
   "execution_count": 24,
   "metadata": {},
   "outputs": [],
   "source": [
    "combined_df = pd.merge(combined_df, year16, how ='outer', on =[\"Departure Date\",\"Buffalo Load\", \"Buffalo Loss\", \n",
    "                              \"Buffalo Pct\", \"Cattle Load\", \"Cattle Loss\", \"Cattle Pct\", \n",
    "                               \"Sheep Load\", \"Sheep Loss\", \"Sheep Pct\", \"Duration (days)\"])"
   ]
  },
  {
   "cell_type": "code",
   "execution_count": 25,
   "metadata": {},
   "outputs": [],
   "source": [
    "combined_df = pd.merge(combined_df, year17, how ='outer', on =[\"Departure Date\",\"Buffalo Load\", \"Buffalo Loss\", \n",
    "                              \"Buffalo Pct\", \"Cattle Load\", \"Cattle Loss\", \"Cattle Pct\", \n",
    "                               \"Sheep Load\", \"Sheep Loss\", \"Sheep Pct\", \"Duration (days)\"])"
   ]
  },
  {
   "cell_type": "code",
   "execution_count": 26,
   "metadata": {},
   "outputs": [],
   "source": [
    "combined_df = pd.merge(combined_df, year18, how ='outer', on =[\"Departure Date\",\"Buffalo Load\", \"Buffalo Loss\", \n",
    "                              \"Buffalo Pct\", \"Cattle Load\", \"Cattle Loss\", \"Cattle Pct\", \n",
    "                               \"Sheep Load\", \"Sheep Loss\", \"Sheep Pct\", \"Duration (days)\"])"
   ]
  },
  {
   "cell_type": "code",
   "execution_count": 27,
   "metadata": {},
   "outputs": [],
   "source": [
    "combined_df = pd.merge(combined_df, year19, how ='outer', on =[\"Departure Date\",\"Buffalo Load\", \"Buffalo Loss\", \n",
    "                              \"Buffalo Pct\", \"Cattle Load\", \"Cattle Loss\", \"Cattle Pct\", \n",
    "                               \"Sheep Load\", \"Sheep Loss\", \"Sheep Pct\", \"Duration (days)\"])"
   ]
  },
  {
   "cell_type": "code",
   "execution_count": 29,
   "metadata": {},
   "outputs": [
    {
     "data": {
      "text/html": [
       "<div>\n",
       "<style scoped>\n",
       "    .dataframe tbody tr th:only-of-type {\n",
       "        vertical-align: middle;\n",
       "    }\n",
       "\n",
       "    .dataframe tbody tr th {\n",
       "        vertical-align: top;\n",
       "    }\n",
       "\n",
       "    .dataframe thead th {\n",
       "        text-align: right;\n",
       "    }\n",
       "</style>\n",
       "<table border=\"1\" class=\"dataframe\">\n",
       "  <thead>\n",
       "    <tr style=\"text-align: right;\">\n",
       "      <th></th>\n",
       "      <th>Departure Date</th>\n",
       "      <th>Buffalo Load</th>\n",
       "      <th>Buffalo Loss</th>\n",
       "      <th>Buffalo Pct</th>\n",
       "      <th>Cattle Load</th>\n",
       "      <th>Cattle Loss</th>\n",
       "      <th>Cattle Pct</th>\n",
       "      <th>Sheep Load</th>\n",
       "      <th>Sheep Loss</th>\n",
       "      <th>Sheep Pct</th>\n",
       "      <th>Duration (days)</th>\n",
       "    </tr>\n",
       "  </thead>\n",
       "  <tbody>\n",
       "    <tr>\n",
       "      <th>0</th>\n",
       "      <td>Dec-13</td>\n",
       "      <td>NaN</td>\n",
       "      <td>NaN</td>\n",
       "      <td>NaN</td>\n",
       "      <td>1360.0</td>\n",
       "      <td>0.0</td>\n",
       "      <td>0.0000</td>\n",
       "      <td>NaN</td>\n",
       "      <td>NaN</td>\n",
       "      <td>NaN</td>\n",
       "      <td>13</td>\n",
       "    </tr>\n",
       "    <tr>\n",
       "      <th>1</th>\n",
       "      <td>Dec-13</td>\n",
       "      <td>NaN</td>\n",
       "      <td>NaN</td>\n",
       "      <td>NaN</td>\n",
       "      <td>3102.0</td>\n",
       "      <td>4.0</td>\n",
       "      <td>0.0013</td>\n",
       "      <td>NaN</td>\n",
       "      <td>NaN</td>\n",
       "      <td>NaN</td>\n",
       "      <td>8</td>\n",
       "    </tr>\n",
       "    <tr>\n",
       "      <th>2</th>\n",
       "      <td>Dec-13</td>\n",
       "      <td>NaN</td>\n",
       "      <td>NaN</td>\n",
       "      <td>NaN</td>\n",
       "      <td>15362.0</td>\n",
       "      <td>17.0</td>\n",
       "      <td>0.0011</td>\n",
       "      <td>NaN</td>\n",
       "      <td>NaN</td>\n",
       "      <td>NaN</td>\n",
       "      <td>12</td>\n",
       "    </tr>\n",
       "    <tr>\n",
       "      <th>3</th>\n",
       "      <td>Dec-13</td>\n",
       "      <td>NaN</td>\n",
       "      <td>NaN</td>\n",
       "      <td>NaN</td>\n",
       "      <td>879.0</td>\n",
       "      <td>1.0</td>\n",
       "      <td>0.0011</td>\n",
       "      <td>72053.0</td>\n",
       "      <td>554.0</td>\n",
       "      <td>0.007700</td>\n",
       "      <td>33</td>\n",
       "    </tr>\n",
       "    <tr>\n",
       "      <th>4</th>\n",
       "      <td>Dec-13</td>\n",
       "      <td>NaN</td>\n",
       "      <td>NaN</td>\n",
       "      <td>NaN</td>\n",
       "      <td>150.0</td>\n",
       "      <td>0.0</td>\n",
       "      <td>0.0000</td>\n",
       "      <td>77860.0</td>\n",
       "      <td>243.0</td>\n",
       "      <td>0.003100</td>\n",
       "      <td>19</td>\n",
       "    </tr>\n",
       "    <tr>\n",
       "      <th>...</th>\n",
       "      <td>...</td>\n",
       "      <td>...</td>\n",
       "      <td>...</td>\n",
       "      <td>...</td>\n",
       "      <td>...</td>\n",
       "      <td>...</td>\n",
       "      <td>...</td>\n",
       "      <td>...</td>\n",
       "      <td>...</td>\n",
       "      <td>...</td>\n",
       "      <td>...</td>\n",
       "    </tr>\n",
       "    <tr>\n",
       "      <th>1960</th>\n",
       "      <td>Dec-19</td>\n",
       "      <td>NaN</td>\n",
       "      <td>NaN</td>\n",
       "      <td>NaN</td>\n",
       "      <td>3921.0</td>\n",
       "      <td>1.0</td>\n",
       "      <td>0.0003</td>\n",
       "      <td>NaN</td>\n",
       "      <td>NaN</td>\n",
       "      <td>NaN</td>\n",
       "      <td>5</td>\n",
       "    </tr>\n",
       "    <tr>\n",
       "      <th>1961</th>\n",
       "      <td>Dec-19</td>\n",
       "      <td>NaN</td>\n",
       "      <td>NaN</td>\n",
       "      <td>NaN</td>\n",
       "      <td>731.0</td>\n",
       "      <td>2.0</td>\n",
       "      <td>0.0027</td>\n",
       "      <td>62443.0</td>\n",
       "      <td>201.0</td>\n",
       "      <td>0.003219</td>\n",
       "      <td>23</td>\n",
       "    </tr>\n",
       "    <tr>\n",
       "      <th>1962</th>\n",
       "      <td>Dec-19</td>\n",
       "      <td>NaN</td>\n",
       "      <td>NaN</td>\n",
       "      <td>NaN</td>\n",
       "      <td>6270.0</td>\n",
       "      <td>0.0</td>\n",
       "      <td>0.0000</td>\n",
       "      <td>NaN</td>\n",
       "      <td>NaN</td>\n",
       "      <td>NaN</td>\n",
       "      <td>5</td>\n",
       "    </tr>\n",
       "    <tr>\n",
       "      <th>1963</th>\n",
       "      <td>Dec-19</td>\n",
       "      <td>NaN</td>\n",
       "      <td>NaN</td>\n",
       "      <td>NaN</td>\n",
       "      <td>3729.0</td>\n",
       "      <td>6.0</td>\n",
       "      <td>0.0016</td>\n",
       "      <td>NaN</td>\n",
       "      <td>NaN</td>\n",
       "      <td>NaN</td>\n",
       "      <td>14</td>\n",
       "    </tr>\n",
       "    <tr>\n",
       "      <th>1964</th>\n",
       "      <td>Dec-19</td>\n",
       "      <td>NaN</td>\n",
       "      <td>NaN</td>\n",
       "      <td>NaN</td>\n",
       "      <td>3005.0</td>\n",
       "      <td>13.0</td>\n",
       "      <td>0.0043</td>\n",
       "      <td>NaN</td>\n",
       "      <td>NaN</td>\n",
       "      <td>NaN</td>\n",
       "      <td>10</td>\n",
       "    </tr>\n",
       "  </tbody>\n",
       "</table>\n",
       "<p>1965 rows × 11 columns</p>\n",
       "</div>"
      ],
      "text/plain": [
       "     Departure Date  Buffalo Load  Buffalo Loss  Buffalo Pct  Cattle Load  \\\n",
       "0            Dec-13           NaN           NaN          NaN       1360.0   \n",
       "1            Dec-13           NaN           NaN          NaN       3102.0   \n",
       "2            Dec-13           NaN           NaN          NaN      15362.0   \n",
       "3            Dec-13           NaN           NaN          NaN        879.0   \n",
       "4            Dec-13           NaN           NaN          NaN        150.0   \n",
       "...             ...           ...           ...          ...          ...   \n",
       "1960         Dec-19           NaN           NaN          NaN       3921.0   \n",
       "1961         Dec-19           NaN           NaN          NaN        731.0   \n",
       "1962         Dec-19           NaN           NaN          NaN       6270.0   \n",
       "1963         Dec-19           NaN           NaN          NaN       3729.0   \n",
       "1964         Dec-19           NaN           NaN          NaN       3005.0   \n",
       "\n",
       "      Cattle Loss  Cattle Pct  Sheep Load  Sheep Loss  Sheep Pct  \\\n",
       "0             0.0      0.0000         NaN         NaN        NaN   \n",
       "1             4.0      0.0013         NaN         NaN        NaN   \n",
       "2            17.0      0.0011         NaN         NaN        NaN   \n",
       "3             1.0      0.0011     72053.0       554.0   0.007700   \n",
       "4             0.0      0.0000     77860.0       243.0   0.003100   \n",
       "...           ...         ...         ...         ...        ...   \n",
       "1960          1.0      0.0003         NaN         NaN        NaN   \n",
       "1961          2.0      0.0027     62443.0       201.0   0.003219   \n",
       "1962          0.0      0.0000         NaN         NaN        NaN   \n",
       "1963          6.0      0.0016         NaN         NaN        NaN   \n",
       "1964         13.0      0.0043         NaN         NaN        NaN   \n",
       "\n",
       "      Duration (days)  \n",
       "0                  13  \n",
       "1                   8  \n",
       "2                  12  \n",
       "3                  33  \n",
       "4                  19  \n",
       "...               ...  \n",
       "1960                5  \n",
       "1961               23  \n",
       "1962                5  \n",
       "1963               14  \n",
       "1964               10  \n",
       "\n",
       "[1965 rows x 11 columns]"
      ]
     },
     "execution_count": 29,
     "metadata": {},
     "output_type": "execute_result"
    }
   ],
   "source": [
    "combined_df"
   ]
  },
  {
   "cell_type": "code",
   "execution_count": null,
   "metadata": {},
   "outputs": [],
   "source": [
    "duration.to_csv('Output/duration.csv', index = True)"
   ]
  },
  {
   "cell_type": "code",
   "execution_count": null,
   "metadata": {},
   "outputs": [],
   "source": [
    "cattle = combined_df[[\"Departure Date\",\"Cattle Load\",\"Cattle Loss\",\"Cattle Pct\"]]\n",
    "cattle = cattle[cattle[\"Cattle Load\"].notna()]\n",
    "cattle = cattle.fillna(0)"
   ]
  },
  {
   "cell_type": "code",
   "execution_count": null,
   "metadata": {},
   "outputs": [],
   "source": [
    "sheep = combined_df[[\"Departure Date\",\"Sheep Load\",\"Sheep Loss\",\"Sheep Pct\"]]\n",
    "sheep = sheep[sheep[\"Sheep Load\"].notna()]\n",
    "sheep = sheep.fillna(0)"
   ]
  },
  {
   "cell_type": "code",
   "execution_count": null,
   "metadata": {},
   "outputs": [],
   "source": [
    "buffalo = combined_df[[\"Departure Date\",\"Buffalo Load\",\"Buffalo Loss\",\"Buffalo Pct\"]]\n",
    "buffalo = buffalo[buffalo[\"Buffalo Load\"].notna()]\n",
    "buffalo = buffalo.fillna(0)"
   ]
  },
  {
   "cell_type": "code",
   "execution_count": null,
   "metadata": {},
   "outputs": [],
   "source": [
    "buffalo[\"Departure Date\"].unique()"
   ]
  },
  {
   "cell_type": "code",
   "execution_count": null,
   "metadata": {},
   "outputs": [],
   "source": [
    "buffalo[\"Departure Date\"] = buffalo[\"Departure Date\"].astype(str)\n",
    "buffalo[[\"Month\",\"Year\"]] = buffalo[\"Departure Date\"].str.split(\"-\",expand=True,)\n",
    "buffalo"
   ]
  },
  {
   "cell_type": "code",
   "execution_count": null,
   "metadata": {},
   "outputs": [],
   "source": [
    "buffalo_ml = buffalo[[\"Year\",\"Buffalo Load\",\"Buffalo Loss\"]]\n",
    "buffalo_ml = buffalo_ml.groupby(by=\"Year\",as_index = False).sum()\n",
    "buffalo_ml"
   ]
  },
  {
   "cell_type": "code",
   "execution_count": null,
   "metadata": {},
   "outputs": [],
   "source": [
    "buffalo_ml[\"Buffalo Pct\"]= (buffalo_ml[\"Buffalo Loss\"]/buffalo_ml[\"Buffalo Load\"]) * 100\n",
    "buffalo_ml"
   ]
  },
  {
   "cell_type": "code",
   "execution_count": null,
   "metadata": {},
   "outputs": [],
   "source": [
    "buffalo_ml.to_csv('Output/buffalo_ml.csv', index = True)"
   ]
  },
  {
   "cell_type": "code",
   "execution_count": null,
   "metadata": {},
   "outputs": [],
   "source": [
    "sheep[\"Departure Date\"] = sheep[\"Departure Date\"].astype(str)\n",
    "sheep[[\"Month\",\"Year\"]] = sheep[\"Departure Date\"].str.split(\"-\",expand=True,)"
   ]
  },
  {
   "cell_type": "code",
   "execution_count": null,
   "metadata": {},
   "outputs": [],
   "source": [
    "sheep_ml = sheep[[\"Year\",\"Sheep Load\",\"Sheep Loss\"]]\n",
    "sheep_ml = sheep_ml.groupby(by=\"Year\",as_index = False).sum()"
   ]
  },
  {
   "cell_type": "code",
   "execution_count": null,
   "metadata": {},
   "outputs": [],
   "source": [
    "sheep_ml[\"Sheep Pct\"]= (sheep_ml[\"Sheep Loss\"]/sheep_ml[\"Sheep Load\"]) * 100\n",
    "sheep_ml"
   ]
  },
  {
   "cell_type": "code",
   "execution_count": null,
   "metadata": {},
   "outputs": [],
   "source": [
    "sheep_ml.to_csv('Output/sheep_ml.csv', index = True)"
   ]
  },
  {
   "cell_type": "code",
   "execution_count": null,
   "metadata": {},
   "outputs": [],
   "source": [
    "cattle[\"Departure Date\"] = cattle[\"Departure Date\"].astype(str)\n",
    "cattle[[\"Month\",\"Year\"]] = cattle[\"Departure Date\"].str.split(\"-\",expand=True,)"
   ]
  },
  {
   "cell_type": "code",
   "execution_count": null,
   "metadata": {},
   "outputs": [],
   "source": [
    "cattle_ml = cattle[[\"Year\",\"Cattle Load\",\"Cattle Loss\"]]\n",
    "cattle_ml = cattle_ml.groupby(by=\"Year\",as_index = False).sum()"
   ]
  },
  {
   "cell_type": "code",
   "execution_count": null,
   "metadata": {},
   "outputs": [],
   "source": [
    "cattle_ml = cattle[[\"Year\",\"Cattle Load\",\"Cattle Loss\"]]\n",
    "cattle_ml = cattle_ml.groupby(by=\"Year\",as_index = False).sum()"
   ]
  },
  {
   "cell_type": "code",
   "execution_count": null,
   "metadata": {},
   "outputs": [],
   "source": [
    "cattle_ml[\"Cattle Pct\"]= (cattle_ml[\"Cattle Loss\"]/cattle_ml[\"Cattle Load\"]) * 100\n",
    "cattle_ml"
   ]
  },
  {
   "cell_type": "code",
   "execution_count": null,
   "metadata": {},
   "outputs": [],
   "source": [
    "cattle_ml.to_csv('Output/cattle_ml.csv', index = True)"
   ]
  }
 ],
 "metadata": {
  "kernelspec": {
   "display_name": "Python 3",
   "language": "python",
   "name": "python3"
  },
  "language_info": {
   "codemirror_mode": {
    "name": "ipython",
    "version": 3
   },
   "file_extension": ".py",
   "mimetype": "text/x-python",
   "name": "python",
   "nbconvert_exporter": "python",
   "pygments_lexer": "ipython3",
   "version": "3.7.7"
  }
 },
 "nbformat": 4,
 "nbformat_minor": 4
}
