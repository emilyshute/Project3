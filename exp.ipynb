{
 "cells": [
  {
   "cell_type": "code",
   "execution_count": 1,
   "metadata": {},
   "outputs": [],
   "source": [
    "%matplotlib inline"
   ]
  },
  {
   "cell_type": "code",
   "execution_count": 2,
   "metadata": {},
   "outputs": [],
   "source": [
    "import matplotlib.pyplot as plt\n",
    "import numpy as np\n",
    "import pandas as pd"
   ]
  },
  {
   "cell_type": "code",
   "execution_count": 3,
   "metadata": {},
   "outputs": [],
   "source": [
    "jan_jun14_path = \"/Users/matthewvicario/Desktop/Project3/Resources/jan-jun14.csv\"\n",
    "jul_dec14_path = \"/Users/matthewvicario/Desktop/Project3/Resources/jul-dec14.csv\"\n",
    "jan_jun15_path = \"/Users/matthewvicario/Desktop/Project3/Resources/jan-jun15.csv\"\n",
    "jul_dec15_path = \"/Users/matthewvicario/Desktop/Project3/Resources/jul-dec15.csv\"\n",
    "jan_jun16_path = \"/Users/matthewvicario/Desktop/Project3/Resources/jan-jun16.csv\"\n",
    "jul_dec16_path = \"/Users/matthewvicario/Desktop/Project3/Resources/jul-dec16.csv\"\n",
    "jan_jun17_path = \"/Users/matthewvicario/Desktop/Project3/Resources/jan-jun17.csv\"\n",
    "jul_dec17_path = \"/Users/matthewvicario/Desktop/Project3/Resources/jul-dec17.csv\"\n",
    "jan_jun18_path = \"/Users/matthewvicario/Desktop/Project3/Resources/jan-jun18.csv\"\n",
    "jul_dec18_path = \"/Users/matthewvicario/Desktop/Project3/Resources/jul-dec18.csv\"\n",
    "jan_jun19_path = \"/Users/matthewvicario/Desktop/Project3/Resources/jan-jun19.csv\"\n",
    "jul_dec19_path = \"/Users/matthewvicario/Desktop/Project3/Resources/jul-dec19.csv\""
   ]
  },
  {
   "cell_type": "code",
   "execution_count": 4,
   "metadata": {},
   "outputs": [],
   "source": [
    "jan_jun14_data = pd.read_csv(jan_jun14_path)\n",
    "jul_dec14_data = pd.read_csv(jul_dec14_path)\n",
    "jan_jun15_data = pd.read_csv(jan_jun15_path)\n",
    "jul_dec15_data = pd.read_csv(jul_dec15_path)\n",
    "jan_jun16_data = pd.read_csv(jan_jun16_path)\n",
    "jul_dec16_data = pd.read_csv(jul_dec16_path)\n",
    "jan_jun17_data = pd.read_csv(jan_jun17_path)\n",
    "jul_dec17_data = pd.read_csv(jul_dec17_path)\n",
    "jan_jun18_data = pd.read_csv(jan_jun18_path)\n",
    "jul_dec18_data = pd.read_csv(jul_dec18_path)\n",
    "jan_jun19_data = pd.read_csv(jan_jun19_path)\n",
    "jul_dec19_data = pd.read_csv(jul_dec19_path)"
   ]
  },
  {
   "cell_type": "code",
   "execution_count": 5,
   "metadata": {},
   "outputs": [],
   "source": [
    "newjan_jun14 = jan_jun14_data[[\"Departure Date\", \"Buffalo Load\", \"Buffalo Loss\", \n",
    "                              \"Buffalo Pct\", \"Cattle Load\", \"Cattle Loss\", \"Cattle Pct\", \n",
    "                               \"Sheep Load\", \"Sheep Loss\", \"Sheep Pct\"]]"
   ]
  },
  {
   "cell_type": "code",
   "execution_count": 6,
   "metadata": {},
   "outputs": [],
   "source": [
    "newjul_dec14 = jul_dec14_data[[\"Departure Date\", \"Buffalo Load\", \"Buffalo Loss\", \n",
    "                              \"Buffalo Pct\", \"Cattle Load\", \"Cattle Loss\", \"Cattle Pct\", \n",
    "                               \"Sheep Load\", \"Sheep Loss\", \"Sheep Pct\"]]"
   ]
  },
  {
   "cell_type": "code",
   "execution_count": 7,
   "metadata": {},
   "outputs": [],
   "source": [
    "newjan_jun15 = jan_jun15_data[[\"Departure Date\", \"Buffalo Load\", \"Buffalo Loss\", \n",
    "                              \"Buffalo Pct\", \"Cattle Load\", \"Cattle Loss\", \"Cattle Pct\", \n",
    "                               \"Sheep Load\", \"Sheep Loss\", \"Sheep Pct\"]]"
   ]
  },
  {
   "cell_type": "code",
   "execution_count": 8,
   "metadata": {},
   "outputs": [],
   "source": [
    "newjul_dec15 = jul_dec15_data[[\"Departure Date\", \"Buffalo Load\", \"Buffalo Loss\", \n",
    "                              \"Buffalo Pct\", \"Cattle Load\", \"Cattle Loss\", \"Cattle Pct\", \n",
    "                               \"Sheep Load\", \"Sheep Loss\", \"Sheep Pct\"]]"
   ]
  },
  {
   "cell_type": "code",
   "execution_count": 9,
   "metadata": {},
   "outputs": [],
   "source": [
    "newjan_jun16 = jan_jun16_data[[\"Departure Date\", \"Buffalo Load\", \"Buffalo Loss\", \n",
    "                              \"Buffalo Pct\", \"Cattle Load\", \"Cattle Loss\", \"Cattle Pct\", \n",
    "                               \"Sheep Load\", \"Sheep Loss\", \"Sheep Pct\"]]"
   ]
  },
  {
   "cell_type": "code",
   "execution_count": 10,
   "metadata": {},
   "outputs": [],
   "source": [
    "newjul_dec16 = jul_dec16_data[[\"Departure Date\", \"Buffalo Load\", \"Buffalo Loss\", \n",
    "                              \"Buffalo Pct\", \"Cattle Load\", \"Cattle Loss\", \"Cattle Pct\", \n",
    "                               \"Sheep Load\", \"Sheep Loss\", \"Sheep Pct\"]]"
   ]
  },
  {
   "cell_type": "code",
   "execution_count": 11,
   "metadata": {},
   "outputs": [],
   "source": [
    "newjan_jun17 = jan_jun17_data[[\"Departure Date\", \"Buffalo Load\", \"Buffalo Loss\", \n",
    "                              \"Buffalo Pct\", \"Cattle Load\", \"Cattle Loss\", \"Cattle Pct\", \n",
    "                               \"Sheep Load\", \"Sheep Loss\", \"Sheep Pct\"]]"
   ]
  },
  {
   "cell_type": "code",
   "execution_count": 12,
   "metadata": {},
   "outputs": [],
   "source": [
    "newjul_dec17 = jul_dec17_data[[\"Departure Date\", \"Buffalo Load\", \"Buffalo Loss\", \n",
    "                              \"Buffalo Pct\", \"Cattle Load\", \"Cattle Loss\", \"Cattle Pct\", \n",
    "                               \"Sheep Load\", \"Sheep Loss\", \"Sheep Pct\"]]"
   ]
  },
  {
   "cell_type": "code",
   "execution_count": 13,
   "metadata": {},
   "outputs": [],
   "source": [
    "newjan_jun18 = jan_jun18_data[[\"Departure Date\", \"Buffalo Load\", \"Buffalo Loss\", \n",
    "                              \"Buffalo Pct\", \"Cattle Load\", \"Cattle Loss\", \"Cattle Pct\", \n",
    "                               \"Sheep Load\", \"Sheep Loss\", \"Sheep Pct\"]]"
   ]
  },
  {
   "cell_type": "code",
   "execution_count": 14,
   "metadata": {},
   "outputs": [],
   "source": [
    "newjul_dec18 = jul_dec18_data[[\"Departure Date\", \"Buffalo Load\", \"Buffalo Loss\", \n",
    "                              \"Buffalo Pct\", \"Cattle Load\", \"Cattle Loss\", \"Cattle Pct\", \n",
    "                               \"Sheep Load\", \"Sheep Loss\", \"Sheep Pct\"]]"
   ]
  },
  {
   "cell_type": "code",
   "execution_count": 15,
   "metadata": {},
   "outputs": [],
   "source": [
    "newjan_jun19 = jan_jun19_data[[\"Departure Date\", \"Buffalo Load\", \"Buffalo Loss\", \n",
    "                              \"Buffalo Pct\", \"Cattle Load\", \"Cattle Loss\", \"Cattle Pct\", \n",
    "                               \"Sheep Load\", \"Sheep Loss\", \"Sheep Pct\"]]"
   ]
  },
  {
   "cell_type": "code",
   "execution_count": 16,
   "metadata": {},
   "outputs": [],
   "source": [
    "newjul_dec19 = jul_dec19_data[[\"Departure Date\", \"Buffalo Load\", \"Buffalo Loss\", \n",
    "                              \"Buffalo Pct\", \"Cattle Load\", \"Cattle Loss\", \"Cattle Pct\", \n",
    "                               \"Sheep Load\", \"Sheep Loss\", \"Sheep Pct\"]]\n"
   ]
  },
  {
   "cell_type": "code",
   "execution_count": 17,
   "metadata": {},
   "outputs": [],
   "source": [
    "year14 = pd.merge(newjan_jun14, newjul_dec14, how ='outer', on =[\"Departure Date\",\"Buffalo Load\", \"Buffalo Loss\", \n",
    "                              \"Buffalo Pct\", \"Cattle Load\", \"Cattle Loss\", \"Cattle Pct\", \n",
    "                               \"Sheep Load\", \"Sheep Loss\", \"Sheep Pct\"])"
   ]
  },
  {
   "cell_type": "code",
   "execution_count": 18,
   "metadata": {},
   "outputs": [],
   "source": [
    "year15 = pd.merge(newjan_jun15, newjul_dec15, how ='outer', on =[\"Departure Date\",\"Buffalo Load\", \"Buffalo Loss\", \n",
    "                              \"Buffalo Pct\", \"Cattle Load\", \"Cattle Loss\", \"Cattle Pct\", \n",
    "                               \"Sheep Load\", \"Sheep Loss\", \"Sheep Pct\"])"
   ]
  },
  {
   "cell_type": "code",
   "execution_count": 19,
   "metadata": {},
   "outputs": [],
   "source": [
    "year16 = pd.merge(newjan_jun16, newjul_dec16, how ='outer', on =[\"Departure Date\",\"Buffalo Load\", \"Buffalo Loss\", \n",
    "                              \"Buffalo Pct\", \"Cattle Load\", \"Cattle Loss\", \"Cattle Pct\", \n",
    "                               \"Sheep Load\", \"Sheep Loss\", \"Sheep Pct\"])"
   ]
  },
  {
   "cell_type": "code",
   "execution_count": 20,
   "metadata": {},
   "outputs": [],
   "source": [
    "year17 = pd.merge(newjan_jun17, newjul_dec17, how ='outer', on =[\"Departure Date\",\"Buffalo Load\", \"Buffalo Loss\", \n",
    "                              \"Buffalo Pct\", \"Cattle Load\", \"Cattle Loss\", \"Cattle Pct\", \n",
    "                               \"Sheep Load\", \"Sheep Loss\", \"Sheep Pct\"])"
   ]
  },
  {
   "cell_type": "code",
   "execution_count": 21,
   "metadata": {},
   "outputs": [],
   "source": [
    "year18 = pd.merge(newjan_jun18, newjul_dec18, how ='outer', on =[\"Departure Date\",\"Buffalo Load\", \"Buffalo Loss\", \n",
    "                              \"Buffalo Pct\", \"Cattle Load\", \"Cattle Loss\", \"Cattle Pct\", \n",
    "                               \"Sheep Load\", \"Sheep Loss\", \"Sheep Pct\"])"
   ]
  },
  {
   "cell_type": "code",
   "execution_count": 22,
   "metadata": {},
   "outputs": [],
   "source": [
    "year19 = pd.merge(newjan_jun19, newjul_dec19, how ='outer', on =[\"Departure Date\",\"Buffalo Load\", \"Buffalo Loss\", \n",
    "                              \"Buffalo Pct\", \"Cattle Load\", \"Cattle Loss\", \"Cattle Pct\", \n",
    "                               \"Sheep Load\", \"Sheep Loss\", \"Sheep Pct\"])"
   ]
  },
  {
   "cell_type": "code",
   "execution_count": 23,
   "metadata": {},
   "outputs": [],
   "source": [
    "combined_df = pd.merge(year14, year15, how ='outer', on =[\"Departure Date\",\"Buffalo Load\", \"Buffalo Loss\", \n",
    "                              \"Buffalo Pct\", \"Cattle Load\", \"Cattle Loss\", \"Cattle Pct\", \n",
    "                               \"Sheep Load\", \"Sheep Loss\", \"Sheep Pct\"])"
   ]
  },
  {
   "cell_type": "code",
   "execution_count": 24,
   "metadata": {},
   "outputs": [],
   "source": [
    "combined_df = pd.merge(combined_df, year16, how ='outer', on =[\"Departure Date\",\"Buffalo Load\", \"Buffalo Loss\", \n",
    "                              \"Buffalo Pct\", \"Cattle Load\", \"Cattle Loss\", \"Cattle Pct\", \n",
    "                               \"Sheep Load\", \"Sheep Loss\", \"Sheep Pct\"])"
   ]
  },
  {
   "cell_type": "code",
   "execution_count": 25,
   "metadata": {},
   "outputs": [],
   "source": [
    "combined_df = pd.merge(combined_df, year17, how ='outer', on =[\"Departure Date\",\"Buffalo Load\", \"Buffalo Loss\", \n",
    "                              \"Buffalo Pct\", \"Cattle Load\", \"Cattle Loss\", \"Cattle Pct\", \n",
    "                               \"Sheep Load\", \"Sheep Loss\", \"Sheep Pct\"])"
   ]
  },
  {
   "cell_type": "code",
   "execution_count": 26,
   "metadata": {},
   "outputs": [],
   "source": [
    "combined_df = pd.merge(combined_df, year18, how ='outer', on =[\"Departure Date\",\"Buffalo Load\", \"Buffalo Loss\", \n",
    "                              \"Buffalo Pct\", \"Cattle Load\", \"Cattle Loss\", \"Cattle Pct\", \n",
    "                               \"Sheep Load\", \"Sheep Loss\", \"Sheep Pct\"])"
   ]
  },
  {
   "cell_type": "code",
   "execution_count": 27,
   "metadata": {},
   "outputs": [
    {
     "data": {
      "text/html": [
       "<div>\n",
       "<style scoped>\n",
       "    .dataframe tbody tr th:only-of-type {\n",
       "        vertical-align: middle;\n",
       "    }\n",
       "\n",
       "    .dataframe tbody tr th {\n",
       "        vertical-align: top;\n",
       "    }\n",
       "\n",
       "    .dataframe thead th {\n",
       "        text-align: right;\n",
       "    }\n",
       "</style>\n",
       "<table border=\"1\" class=\"dataframe\">\n",
       "  <thead>\n",
       "    <tr style=\"text-align: right;\">\n",
       "      <th></th>\n",
       "      <th>Departure Date</th>\n",
       "      <th>Buffalo Load</th>\n",
       "      <th>Buffalo Loss</th>\n",
       "      <th>Buffalo Pct</th>\n",
       "      <th>Cattle Load</th>\n",
       "      <th>Cattle Loss</th>\n",
       "      <th>Cattle Pct</th>\n",
       "      <th>Sheep Load</th>\n",
       "      <th>Sheep Loss</th>\n",
       "      <th>Sheep Pct</th>\n",
       "    </tr>\n",
       "  </thead>\n",
       "  <tbody>\n",
       "    <tr>\n",
       "      <th>0</th>\n",
       "      <td>Dec-13</td>\n",
       "      <td>NaN</td>\n",
       "      <td>NaN</td>\n",
       "      <td>NaN</td>\n",
       "      <td>1360.0</td>\n",
       "      <td>0.0</td>\n",
       "      <td>0.0000</td>\n",
       "      <td>NaN</td>\n",
       "      <td>NaN</td>\n",
       "      <td>NaN</td>\n",
       "    </tr>\n",
       "    <tr>\n",
       "      <th>1</th>\n",
       "      <td>Dec-13</td>\n",
       "      <td>NaN</td>\n",
       "      <td>NaN</td>\n",
       "      <td>NaN</td>\n",
       "      <td>3102.0</td>\n",
       "      <td>4.0</td>\n",
       "      <td>0.0013</td>\n",
       "      <td>NaN</td>\n",
       "      <td>NaN</td>\n",
       "      <td>NaN</td>\n",
       "    </tr>\n",
       "    <tr>\n",
       "      <th>2</th>\n",
       "      <td>Dec-13</td>\n",
       "      <td>NaN</td>\n",
       "      <td>NaN</td>\n",
       "      <td>NaN</td>\n",
       "      <td>15362.0</td>\n",
       "      <td>17.0</td>\n",
       "      <td>0.0011</td>\n",
       "      <td>NaN</td>\n",
       "      <td>NaN</td>\n",
       "      <td>NaN</td>\n",
       "    </tr>\n",
       "    <tr>\n",
       "      <th>3</th>\n",
       "      <td>Dec-13</td>\n",
       "      <td>NaN</td>\n",
       "      <td>NaN</td>\n",
       "      <td>NaN</td>\n",
       "      <td>879.0</td>\n",
       "      <td>1.0</td>\n",
       "      <td>0.0011</td>\n",
       "      <td>72053.0</td>\n",
       "      <td>554.0</td>\n",
       "      <td>0.007700</td>\n",
       "    </tr>\n",
       "    <tr>\n",
       "      <th>4</th>\n",
       "      <td>Dec-13</td>\n",
       "      <td>NaN</td>\n",
       "      <td>NaN</td>\n",
       "      <td>NaN</td>\n",
       "      <td>150.0</td>\n",
       "      <td>0.0</td>\n",
       "      <td>0.0000</td>\n",
       "      <td>77860.0</td>\n",
       "      <td>243.0</td>\n",
       "      <td>0.003100</td>\n",
       "    </tr>\n",
       "    <tr>\n",
       "      <th>...</th>\n",
       "      <td>...</td>\n",
       "      <td>...</td>\n",
       "      <td>...</td>\n",
       "      <td>...</td>\n",
       "      <td>...</td>\n",
       "      <td>...</td>\n",
       "      <td>...</td>\n",
       "      <td>...</td>\n",
       "      <td>...</td>\n",
       "      <td>...</td>\n",
       "    </tr>\n",
       "    <tr>\n",
       "      <th>1959</th>\n",
       "      <td>Dec-19</td>\n",
       "      <td>NaN</td>\n",
       "      <td>NaN</td>\n",
       "      <td>NaN</td>\n",
       "      <td>3921.0</td>\n",
       "      <td>1.0</td>\n",
       "      <td>0.0003</td>\n",
       "      <td>NaN</td>\n",
       "      <td>NaN</td>\n",
       "      <td>NaN</td>\n",
       "    </tr>\n",
       "    <tr>\n",
       "      <th>1960</th>\n",
       "      <td>Dec-19</td>\n",
       "      <td>NaN</td>\n",
       "      <td>NaN</td>\n",
       "      <td>NaN</td>\n",
       "      <td>731.0</td>\n",
       "      <td>2.0</td>\n",
       "      <td>0.0027</td>\n",
       "      <td>62443.0</td>\n",
       "      <td>201.0</td>\n",
       "      <td>0.003219</td>\n",
       "    </tr>\n",
       "    <tr>\n",
       "      <th>1961</th>\n",
       "      <td>Dec-19</td>\n",
       "      <td>NaN</td>\n",
       "      <td>NaN</td>\n",
       "      <td>NaN</td>\n",
       "      <td>6270.0</td>\n",
       "      <td>0.0</td>\n",
       "      <td>0.0000</td>\n",
       "      <td>NaN</td>\n",
       "      <td>NaN</td>\n",
       "      <td>NaN</td>\n",
       "    </tr>\n",
       "    <tr>\n",
       "      <th>1962</th>\n",
       "      <td>Dec-19</td>\n",
       "      <td>NaN</td>\n",
       "      <td>NaN</td>\n",
       "      <td>NaN</td>\n",
       "      <td>3729.0</td>\n",
       "      <td>6.0</td>\n",
       "      <td>0.0016</td>\n",
       "      <td>NaN</td>\n",
       "      <td>NaN</td>\n",
       "      <td>NaN</td>\n",
       "    </tr>\n",
       "    <tr>\n",
       "      <th>1963</th>\n",
       "      <td>Dec-19</td>\n",
       "      <td>NaN</td>\n",
       "      <td>NaN</td>\n",
       "      <td>NaN</td>\n",
       "      <td>3005.0</td>\n",
       "      <td>13.0</td>\n",
       "      <td>0.0043</td>\n",
       "      <td>NaN</td>\n",
       "      <td>NaN</td>\n",
       "      <td>NaN</td>\n",
       "    </tr>\n",
       "  </tbody>\n",
       "</table>\n",
       "<p>1964 rows × 10 columns</p>\n",
       "</div>"
      ],
      "text/plain": [
       "     Departure Date  Buffalo Load  Buffalo Loss  Buffalo Pct  Cattle Load  \\\n",
       "0            Dec-13           NaN           NaN          NaN       1360.0   \n",
       "1            Dec-13           NaN           NaN          NaN       3102.0   \n",
       "2            Dec-13           NaN           NaN          NaN      15362.0   \n",
       "3            Dec-13           NaN           NaN          NaN        879.0   \n",
       "4            Dec-13           NaN           NaN          NaN        150.0   \n",
       "...             ...           ...           ...          ...          ...   \n",
       "1959         Dec-19           NaN           NaN          NaN       3921.0   \n",
       "1960         Dec-19           NaN           NaN          NaN        731.0   \n",
       "1961         Dec-19           NaN           NaN          NaN       6270.0   \n",
       "1962         Dec-19           NaN           NaN          NaN       3729.0   \n",
       "1963         Dec-19           NaN           NaN          NaN       3005.0   \n",
       "\n",
       "      Cattle Loss  Cattle Pct  Sheep Load  Sheep Loss  Sheep Pct  \n",
       "0             0.0      0.0000         NaN         NaN        NaN  \n",
       "1             4.0      0.0013         NaN         NaN        NaN  \n",
       "2            17.0      0.0011         NaN         NaN        NaN  \n",
       "3             1.0      0.0011     72053.0       554.0   0.007700  \n",
       "4             0.0      0.0000     77860.0       243.0   0.003100  \n",
       "...           ...         ...         ...         ...        ...  \n",
       "1959          1.0      0.0003         NaN         NaN        NaN  \n",
       "1960          2.0      0.0027     62443.0       201.0   0.003219  \n",
       "1961          0.0      0.0000         NaN         NaN        NaN  \n",
       "1962          6.0      0.0016         NaN         NaN        NaN  \n",
       "1963         13.0      0.0043         NaN         NaN        NaN  \n",
       "\n",
       "[1964 rows x 10 columns]"
      ]
     },
     "execution_count": 27,
     "metadata": {},
     "output_type": "execute_result"
    }
   ],
   "source": [
    "combined_df = pd.merge(combined_df, year19, how ='outer', on =[\"Departure Date\",\"Buffalo Load\", \"Buffalo Loss\", \n",
    "                              \"Buffalo Pct\", \"Cattle Load\", \"Cattle Loss\", \"Cattle Pct\", \n",
    "                               \"Sheep Load\", \"Sheep Loss\", \"Sheep Pct\"])\n",
    "combined_df"
   ]
  },
  {
   "cell_type": "code",
   "execution_count": null,
   "metadata": {},
   "outputs": [],
   "source": []
  },
  {
   "cell_type": "code",
   "execution_count": null,
   "metadata": {},
   "outputs": [],
   "source": []
  },
  {
   "cell_type": "code",
   "execution_count": null,
   "metadata": {},
   "outputs": [],
   "source": []
  },
  {
   "cell_type": "code",
   "execution_count": null,
   "metadata": {},
   "outputs": [],
   "source": []
  }
 ],
 "metadata": {
  "kernelspec": {
   "display_name": "Python 3",
   "language": "python",
   "name": "python3"
  },
  "language_info": {
   "codemirror_mode": {
    "name": "ipython",
    "version": 3
   },
   "file_extension": ".py",
   "mimetype": "text/x-python",
   "name": "python",
   "nbconvert_exporter": "python",
   "pygments_lexer": "ipython3",
   "version": "3.7.7"
  }
 },
 "nbformat": 4,
 "nbformat_minor": 4
}
